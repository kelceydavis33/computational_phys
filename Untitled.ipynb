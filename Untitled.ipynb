{
 "cells": [
  {
   "cell_type": "code",
   "execution_count": 10,
   "id": "b560cf5e",
   "metadata": {},
   "outputs": [],
   "source": [
    "from scipy import integrate\n",
    "\n",
    "def f(x, y):\n",
    "\n",
    "    return x*y\n",
    "\n",
    "\n",
    "def bounds_y():\n",
    "\n",
    "    return [0, 0.5]\n",
    "\n",
    "\n",
    "def bounds_x(y):\n",
    "\n",
    "    return [0, 1-2*y]\n",
    "\n",
    "\n",
    "r = integrate.nquad(f, [bounds_x, bounds_y])"
   ]
  },
  {
   "cell_type": "code",
   "execution_count": 16,
   "id": "3f352a9e",
   "metadata": {},
   "outputs": [
    {
     "data": {
      "text/plain": [
       "95.99999999999999"
      ]
     },
     "execution_count": 16,
     "metadata": {},
     "output_type": "execute_result"
    }
   ],
   "source": [
    "1/np.sum(r[0])"
   ]
  },
  {
   "cell_type": "code",
   "execution_count": 2,
   "id": "9db6fd59",
   "metadata": {},
   "outputs": [
    {
     "data": {
      "text/plain": [
       "inf"
      ]
     },
     "execution_count": 2,
     "metadata": {},
     "output_type": "execute_result"
    }
   ],
   "source": [
    "import numpy as np\n",
    "np.inf"
   ]
  },
  {
   "cell_type": "code",
   "execution_count": 20,
   "id": "9ed7011e",
   "metadata": {},
   "outputs": [],
   "source": [
    "\n",
    "z = 4\n",
    "v = 3\n",
    "\n",
    "def integrand(t,s):\n",
    "    return (np.e**-(t+s))*(t**(z-1))*(s**(v-z))\n",
    "\n",
    "def bounds_y():\n",
    "\n",
    "    return [0, np.inf]\n",
    "\n",
    "\n",
    "def bounds_x(y):\n",
    "\n",
    "    return [0, np.inf]\n",
    "\n",
    "\n",
    "r = integrate.nquad(integrand, [bounds_x, bounds_y])"
   ]
  },
  {
   "cell_type": "code",
   "execution_count": 21,
   "id": "2adcb95a",
   "metadata": {},
   "outputs": [
    {
     "data": {
      "text/plain": [
       "223.14768225332398"
      ]
     },
     "execution_count": 21,
     "metadata": {},
     "output_type": "execute_result"
    }
   ],
   "source": [
    "np.sum(r[0])"
   ]
  },
  {
   "cell_type": "code",
   "execution_count": null,
   "id": "8b303419",
   "metadata": {},
   "outputs": [],
   "source": []
  }
 ],
 "metadata": {
  "kernelspec": {
   "display_name": "Python 3",
   "language": "python",
   "name": "python3"
  },
  "language_info": {
   "codemirror_mode": {
    "name": "ipython",
    "version": 3
   },
   "file_extension": ".py",
   "mimetype": "text/x-python",
   "name": "python",
   "nbconvert_exporter": "python",
   "pygments_lexer": "ipython3",
   "version": "3.9.6"
  }
 },
 "nbformat": 4,
 "nbformat_minor": 5
}
