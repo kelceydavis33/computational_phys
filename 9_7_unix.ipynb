{
 "cells": [
  {
   "cell_type": "markdown",
   "id": "dc2c4bee",
   "metadata": {},
   "source": [
    "# Lecture 9/7: Unix and supercomputing environment"
   ]
  },
  {
   "cell_type": "markdown",
   "id": "ab44c101",
   "metadata": {},
   "source": [
    "## Lecture notes\n",
    "\n",
    "Today:\n",
    "\n",
    "* high preformance computing\n",
    "\n",
    "* intro to unix\n",
    "\n",
    "* Bridges-2\n",
    "\n",
    "**high performance computing**\n",
    "\n",
    "* login nodes: don't run code here-this is where you land on login\n",
    "\n",
    "* compute nodes: this is where code is run. You need to request access\n",
    "\n",
    "* regular, large, and GPU node types\n",
    "\n",
    "* can use ssh access, PuTTY on windows, can also use OnDemand web browser interface for Bridges-2\n",
    "\n",
    "**unix**\n",
    "\n",
    "* grep: find any files containing text\n",
    "\n",
    "* chmod: premissions\n",
    "\n",
    "* interactive jobs:execute code, see results immediately\n",
    "\n",
    "* batch jobs: submit in background\n",
    "\n",
    "* using sbatch submission scripts\n",
    "\n",
    "* -N: number of node, -p: specific partition\n",
    "\n",
    "* partitions: \n",
    "\n",
    "RM = allocating a full node,bad unless you are really doing code, \n",
    "\n",
    "RM_shared: allocates a small # of cores, good\n",
    "\n",
    "* open jupyter notebooks from Bridges2 OnDemand"
   ]
  },
  {
   "cell_type": "code",
   "execution_count": 1,
   "id": "4298f017",
   "metadata": {},
   "outputs": [],
   "source": [
    "import astropy.units as u\n",
    "import astropy.constants as c\n",
    "from astropy.coordinates import SkyCoord\n",
    "from astropy.time import Time\n",
    "import numpy as np\n",
    "import matplotlib.pyplot as plt\n",
    "import pandas as pd\n",
    "import glob\n",
    "%matplotlib inline"
   ]
  },
  {
   "cell_type": "code",
   "execution_count": 2,
   "id": "d2f9672d",
   "metadata": {},
   "outputs": [],
   "source": [
    "plt.rcParams['figure.figsize'] = (10, 10)\n",
    "plt.rc('axes', labelsize=14)\n",
    "plt.rc('axes', labelweight='bold')\n",
    "plt.rc('axes', titlesize=16)\n",
    "plt.rc('axes', titleweight='bold')\n",
    "plt.rc('font', family='sans-serif')"
   ]
  },
  {
   "cell_type": "code",
   "execution_count": null,
   "id": "dc5cd82e",
   "metadata": {},
   "outputs": [],
   "source": []
  }
 ],
 "metadata": {
  "kernelspec": {
   "display_name": "Python 3",
   "language": "python",
   "name": "python3"
  },
  "language_info": {
   "codemirror_mode": {
    "name": "ipython",
    "version": 3
   },
   "file_extension": ".py",
   "mimetype": "text/x-python",
   "name": "python",
   "nbconvert_exporter": "python",
   "pygments_lexer": "ipython3",
   "version": "3.9.6"
  }
 },
 "nbformat": 4,
 "nbformat_minor": 5
}
