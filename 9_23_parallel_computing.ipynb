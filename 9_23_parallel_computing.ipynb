{
 "cells": [
  {
   "cell_type": "markdown",
   "id": "61525281",
   "metadata": {},
   "source": [
    "# Guest Lecture"
   ]
  },
  {
   "cell_type": "code",
   "execution_count": null,
   "id": "bb416662",
   "metadata": {},
   "outputs": [],
   "source": []
  }
 ],
 "metadata": {
  "kernelspec": {
   "display_name": "Python 3",
   "language": "python",
   "name": "python3"
  },
  "language_info": {
   "codemirror_mode": {
    "name": "ipython",
    "version": 3
   },
   "file_extension": ".py",
   "mimetype": "text/x-python",
   "name": "python",
   "nbconvert_exporter": "python",
   "pygments_lexer": "ipython3",
   "version": "3.9.6"
  }
 },
 "nbformat": 4,
 "nbformat_minor": 5
}
