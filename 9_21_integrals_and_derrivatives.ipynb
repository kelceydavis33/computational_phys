{
 "cells": [
  {
   "cell_type": "markdown",
   "id": "fd7a226b",
   "metadata": {},
   "source": [
    "# Lecture 9/21"
   ]
  },
  {
   "cell_type": "code",
   "execution_count": 16,
   "id": "4298f017",
   "metadata": {},
   "outputs": [],
   "source": [
    "import astropy.units as u\n",
    "import astropy.constants as c\n",
    "from astropy.coordinates import SkyCoord\n",
    "from astropy.time import Time\n",
    "import numpy as np\n",
    "import matplotlib.pyplot as plt\n",
    "import pandas as pd\n",
    "import glob\n",
    "%matplotlib inline"
   ]
  },
  {
   "cell_type": "code",
   "execution_count": 17,
   "id": "d2f9672d",
   "metadata": {},
   "outputs": [],
   "source": [
    "plt.rcParams['figure.figsize'] = (10, 10)\n",
    "plt.rc('axes', labelsize=14)\n",
    "plt.rc('axes', labelweight='bold')\n",
    "plt.rc('axes', titlesize=16)\n",
    "plt.rc('axes', titleweight='bold')\n",
    "plt.rc('font', family='sans-serif')"
   ]
  },
  {
   "cell_type": "markdown",
   "id": "91bcadc6",
   "metadata": {},
   "source": [
    "## Lecture Notes- Numerical Differentiasion\n",
    "\n",
    "* integration\n",
    "\n",
    "* $I_i = \\frac{1}{2}I_{i-1} + h_i \\sum {k odd}{} f(a+kh_i)$\n",
    "\n"
   ]
  },
  {
   "cell_type": "code",
   "execution_count": 8,
   "id": "e3f5d9b0",
   "metadata": {},
   "outputs": [],
   "source": [
    "def f(x):\n",
    "    return x**4 - 2*x + 1"
   ]
  },
  {
   "cell_type": "code",
   "execution_count": 9,
   "id": "ab812398",
   "metadata": {},
   "outputs": [],
   "source": [
    "def F(x):\n",
    "    return 0.2*x**5 - x**2 + x"
   ]
  },
  {
   "cell_type": "code",
   "execution_count": 10,
   "id": "69a0e1c7",
   "metadata": {},
   "outputs": [],
   "source": [
    "def trapezoidal_rule(f,N):\n",
    "    a = 0.0\n",
    "    b = 2.0\n",
    "    h = (b-a)/N\n",
    "    s = 0.5*f(a) + 0.5*f(b)\n",
    "    for k in range(1,N):\n",
    "        s += f(a+k*h)\n",
    "    return h*s"
   ]
  },
  {
   "cell_type": "code",
   "execution_count": 12,
   "id": "2aef3b53",
   "metadata": {},
   "outputs": [
    {
     "name": "stdout",
     "output_type": "stream",
     "text": [
      "N = 20 I= 4.426660000000001 error = 0.026633333333333137\n",
      "N = 40 I= 4.406666250000002 error = 0.006664583333333122\n",
      "N = 80 I= 4.401666640625002 error = 0.0016665364583333304\n",
      "N = 160 I= 4.400416665039064 error = 0.00041665852864595604\n",
      "N = 320 I= 4.400104166564943 error = 0.00010416615804024569\n",
      "N = 640 I= 4.40002604166031 error = 2.6041634877553104e-05\n",
      "N = 1280 I= 4.400006510416272 error = 6.510414679361531e-06\n",
      "N = 2560 I= 4.4000016276041425 error = 1.6276040432453935e-06\n",
      "N = 5120 I= 4.400000406901044 error = 4.069010328677791e-07\n",
      "N = 10240 I= 4.400000101725251 error = 1.0172526436017885e-07\n",
      "N = 20480 I= 4.400000025431308 error = 2.5431314239673004e-08\n",
      "N = 40960 I= 4.400000006357833 error = 6.357825081219441e-09\n",
      "N = 81920 I= 4.400000001589487 error = 1.5894485727585561e-09\n",
      "N = 163840 I= 4.400000000397351 error = 3.973787225201401e-10\n",
      "N = 327680 I= 4.4000000000993715 error = 9.932647297243118e-11\n",
      "N = 655360 I= 4.400000000024891 error = 2.4826955306404368e-11\n",
      "N = 1310720 I= 4.4000000000062585 error = 6.210735629489743e-12\n",
      "N = 2621440 I= 4.40000000000154 error = 1.5729639812889218e-12\n",
      "N = 5242880 I= 4.400000000000513 error = 3.4224475105778157e-13\n",
      "\n",
      " --> time = 1.4141802787780762  seconds\n"
     ]
    }
   ],
   "source": [
    "import time\n",
    "start = time.time()\n",
    "N = 10\n",
    "I_1 = trapezoidal_rule(f,N)\n",
    "error = 1\n",
    "while error > 1e-12:\n",
    "    N *= 2\n",
    "    I_2 = trapezoidal_rule(f,N)\n",
    "    error = abs(I_2-I_1)/3\n",
    "    I_1 = I_2\n",
    "    print ('N =',N,'I=',I_2,'error =', error)\n",
    "print('\\n --> time =',time.time() - start, ' seconds')"
   ]
  },
  {
   "cell_type": "code",
   "execution_count": 14,
   "id": "4c6093bb",
   "metadata": {},
   "outputs": [
    {
     "name": "stdout",
     "output_type": "stream",
     "text": [
      "N = 20 I= 4.426660000000001 error = 0.026633333333333137\n",
      "N = 40 I= 4.406666250000001 error = 0.006664583333333418\n",
      "N = 80 I= 4.401666640625001 error = 0.0016665364583333304\n",
      "N = 160 I= 4.400416665039064 error = 0.00041665852864565994\n",
      "N = 320 I= 4.400104166564942 error = 0.00010416615804054175\n",
      "N = 640 I= 4.400026041660309 error = 2.6041634877553104e-05\n",
      "N = 1280 I= 4.4000065104162704 error = 6.510414679657591e-06\n",
      "N = 2560 I= 4.400001627604144 error = 1.6276040420611555e-06\n",
      "N = 5120 I= 4.400000406901043 error = 4.0690103375595754e-07\n",
      "N = 10240 I= 4.4000001017252615 error = 1.017252605114057e-07\n",
      "N = 20480 I= 4.40000002543132 error = 2.543131394361353e-08\n",
      "N = 40960 I= 4.400000006357839 error = 6.35782685757628e-09\n",
      "N = 81920 I= 4.400000001589458 error = 1.5894604151374854e-09\n",
      "N = 163840 I= 4.400000000397359 error = 3.973662880222643e-10\n",
      "N = 327680 I= 4.400000000099342 error = 9.933890747030698e-11\n",
      "N = 655360 I= 4.400000000024821 error = 2.484027798269987e-11\n",
      "N = 1310720 I= 4.400000000006235 error = 6.195340536881607e-12\n",
      "N = 2621440 I= 4.400000000001569 error = 1.5554964723681526e-12\n",
      "N = 5242880 I= 4.400000000000436 error = 3.777718878457866e-13\n",
      "\n",
      " --> time = 0.9856581687927246  seconds\n"
     ]
    }
   ],
   "source": [
    "start = time.time()\n",
    "# first approximation to the integral\n",
    "N = 10\n",
    "a = 0.0\n",
    "b = 2.0\n",
    "h = (b-a)/N\n",
    "I_1 = 0.5*f(a) + 0.5*f(b)\n",
    "for k in range(1,N):\n",
    "    I_1 += f(a+k*h)\n",
    "I_1 *=h\n",
    "error = 1\n",
    "while error > 1e-12:\n",
    "    # new estimate of the integral with trapezoidal method\n",
    "    N *= 2\n",
    "    h *= 0.5\n",
    "    odd_terms = 0.\n",
    "    for k in range(1,N,2):\n",
    "        odd_terms += f(a+k*h)\n",
    "    I_2 = 0.5 * I_1 + h * odd_terms\n",
    "    error = abs(I_2-I_1)/3\n",
    "    I_1 = I_2\n",
    "    print ('N =',N,'I=',I_2,'error =', error)\n",
    "print('\\n --> time =',time.time() - start, ' seconds')"
   ]
  },
  {
   "cell_type": "markdown",
   "id": "2d331084",
   "metadata": {},
   "source": [
    "* for chi squared, \n",
    "\n",
    "$X^2 = (I_i - I_{i-1})/3$\n",
    "\n",
    "* Romberg's notation\n",
    "\n",
    "* need to continue deriving higher order corrections, gives orders of accuracy"
   ]
  },
  {
   "cell_type": "code",
   "execution_count": 18,
   "id": "d16cae6a",
   "metadata": {},
   "outputs": [
    {
     "name": "stdout",
     "output_type": "stream",
     "text": [
      "N = 20 I= [4.42666    4.40002667] error = 0.026633333333333137\n",
      "N = 40 I= [4.40666625 4.40000167 4.4       ] error = 1.6666666667219942e-06\n",
      "N = 80 I= [4.40166664 4.4000001  4.4        4.4       ] error = 1.409807015397024e-17\n",
      "\n",
      " --> time = 0.0007333755493164062  seconds\n"
     ]
    }
   ],
   "source": [
    "start = time.time()\n",
    "# first approximation to the integral\n",
    "N = 10\n",
    "a = 0.0\n",
    "b = 2.0\n",
    "h = (b-a)/N\n",
    "I_1 = 0.5*f(a) + 0.5*f(b)\n",
    "for k in range(1,N):\n",
    "    I_1 += f(a+k*h)\n",
    "I_1 *=h\n",
    "\n",
    "R_1 = np.array([I_1])\n",
    "error = 1\n",
    "row = 1\n",
    "while abs(error) > 1e-12:\n",
    "    # new estimate of the integral with trapezoidal method\n",
    "    N *= 2\n",
    "    h *= 0.5\n",
    "    odd_terms = 0.\n",
    "    for k in range(1,N,2):\n",
    "        odd_terms += f(a+k*h)\n",
    "    I_2 = 0.5 * I_1 + h * odd_terms\n",
    "    # calculate new Romberg estimates\n",
    "    row += 1\n",
    "    R_2 = np.empty(row)\n",
    "    R_2[0] = I_2\n",
    "    for m in range(1,row):\n",
    "        error = (R_2[m-1] - R_1[m-1]) / (4**m - 1)\n",
    "        R_2[m] = R_2[m-1] + error\n",
    "    I_1 = I_2\n",
    "    R_1 = R_2\n",
    "    print ('N =',N,'I=',R_2,'error =', abs(error))\n",
    "print('\\n --> time =',time.time() - start, ' seconds')"
   ]
  },
  {
   "cell_type": "code",
   "execution_count": 19,
   "id": "4d45eba2",
   "metadata": {},
   "outputs": [
    {
     "ename": "ModuleNotFoundError",
     "evalue": "No module named 'gaussxw'",
     "output_type": "error",
     "traceback": [
      "\u001b[0;31m---------------------------------------------------------------------------\u001b[0m",
      "\u001b[0;31mModuleNotFoundError\u001b[0m                       Traceback (most recent call last)",
      "\u001b[0;32m<ipython-input-19-05b4eddcded7>\u001b[0m in \u001b[0;36m<module>\u001b[0;34m\u001b[0m\n\u001b[0;32m----> 1\u001b[0;31m \u001b[0;32mfrom\u001b[0m \u001b[0mgaussxw\u001b[0m \u001b[0;32mimport\u001b[0m \u001b[0mgaussxw\u001b[0m\u001b[0;34m\u001b[0m\u001b[0;34m\u001b[0m\u001b[0m\n\u001b[0m\u001b[1;32m      2\u001b[0m \u001b[0mN\u001b[0m \u001b[0;34m=\u001b[0m \u001b[0;36m3\u001b[0m\u001b[0;34m\u001b[0m\u001b[0;34m\u001b[0m\u001b[0m\n\u001b[1;32m      3\u001b[0m \u001b[0ma\u001b[0m \u001b[0;34m=\u001b[0m \u001b[0;36m0.0\u001b[0m\u001b[0;34m\u001b[0m\u001b[0;34m\u001b[0m\u001b[0m\n\u001b[1;32m      4\u001b[0m \u001b[0mb\u001b[0m \u001b[0;34m=\u001b[0m \u001b[0;36m2.0\u001b[0m\u001b[0;34m\u001b[0m\u001b[0;34m\u001b[0m\u001b[0m\n\u001b[1;32m      5\u001b[0m \u001b[0;31m# calculate the sample points and weights\u001b[0m\u001b[0;34m\u001b[0m\u001b[0;34m\u001b[0m\u001b[0;34m\u001b[0m\u001b[0m\n",
      "\u001b[0;31mModuleNotFoundError\u001b[0m: No module named 'gaussxw'"
     ]
    }
   ],
   "source": [
    "from gaussxw import gaussxw\n",
    "N = 3\n",
    "a = 0.0\n",
    "b = 2.0\n",
    "# calculate the sample points and weights\n",
    "x, w = gaussxw(N)\n",
    "# map the sample points and weights to the required domain\n",
    "xp = 0.5*(b-a)*x + 0.5*(b+a)\n",
    "wp = 0.5*(b-a)*w\n",
    "# perform the integral\n",
    "s = 0.0\n",
    "for k in range(N):\n",
    "    s += wp[k] * f(xp[k])\n",
    "print('N =',N, '--> integral =',s, 'error =', abs(s-I_exact))"
   ]
  },
  {
   "cell_type": "code",
   "execution_count": null,
   "id": "c181f4af",
   "metadata": {},
   "outputs": [],
   "source": []
  }
 ],
 "metadata": {
  "kernelspec": {
   "display_name": "Python 3",
   "language": "python",
   "name": "python3"
  },
  "language_info": {
   "codemirror_mode": {
    "name": "ipython",
    "version": 3
   },
   "file_extension": ".py",
   "mimetype": "text/x-python",
   "name": "python",
   "nbconvert_exporter": "python",
   "pygments_lexer": "ipython3",
   "version": "3.9.6"
  }
 },
 "nbformat": 4,
 "nbformat_minor": 5
}
