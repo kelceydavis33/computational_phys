{
 "cells": [
  {
   "cell_type": "markdown",
   "id": "2c0c23dc",
   "metadata": {},
   "source": [
    "# Lecture 15"
   ]
  },
  {
   "cell_type": "code",
   "execution_count": 3,
   "id": "4298f017",
   "metadata": {},
   "outputs": [],
   "source": [
    "import astropy.units as u\n",
    "import astropy.constants as c\n",
    "from astropy.coordinates import SkyCoord\n",
    "from astropy.time import Time\n",
    "import numpy as np\n",
    "import matplotlib.pyplot as plt\n",
    "import pandas as pd\n",
    "import glob\n",
    "%matplotlib inline"
   ]
  },
  {
   "cell_type": "code",
   "execution_count": 4,
   "id": "d2f9672d",
   "metadata": {},
   "outputs": [],
   "source": [
    "plt.rcParams['figure.figsize'] = (10, 10)\n",
    "plt.rc('axes', labelsize=14)\n",
    "plt.rc('axes', labelweight='bold')\n",
    "plt.rc('axes', titlesize=16)\n",
    "plt.rc('axes', titleweight='bold')\n",
    "plt.rc('font', family='sans-serif')"
   ]
  },
  {
   "cell_type": "code",
   "execution_count": 50,
   "id": "dc5cd82e",
   "metadata": {},
   "outputs": [],
   "source": [
    "a = 50\n",
    "V = 1\n",
    "\n",
    "xspan = np.linspace(0,50,a)\n",
    "yspan = np.linspace(0,50,a)\n",
    "\n",
    "phi = np.zeros([a,a])\n",
    "phi[:,a-1] = V\n",
    "phi_prime = np.zeros([a,a])\n",
    "delta = 1\n",
    "while delta>1e6:\n",
    "    for x, xi in enumerate(xspan):\n",
    "        for y, yi in enumerate(ysapn):\n",
    "            if xi == 0 or xi == 50 or yi == 0 or yi == 50:\n",
    "                phi_prime[xi, yi] = phi[xi, yi]\n",
    "            else:\n",
    "                phi_prime[xi, yi] = 0.25*(phi[xi+1, yi] + phi[xi-1,yi] + phi[xi,yi+1] + phi[xi,yi-1])\n",
    "        delta = np.max(np.abs(phi-phi_prime))\n",
    "        phi[:,:] = phi_prime[:,:]"
   ]
  },
  {
   "cell_type": "code",
   "execution_count": 51,
   "id": "582e0ad9",
   "metadata": {},
   "outputs": [
    {
     "data": {
      "image/png": "[encoded data removed]",
      "text/plain": [
       "<Figure size 720x720 with 1 Axes>"
      ]
     },
     "metadata": {
      "needs_background": "light"
     },
     "output_type": "display_data"
    }
   ],
   "source": [
    "plt.imshow(phi.T, origin = 'lower');"
   ]
  },
  {
   "cell_type": "code",
   "execution_count": null,
   "id": "43368438",
   "metadata": {},
   "outputs": [],
   "source": []
  }
 ],
 "metadata": {
  "kernelspec": {
   "display_name": "Python 3",
   "language": "python",
   "name": "python3"
  },
  "language_info": {
   "codemirror_mode": {
    "name": "ipython",
    "version": 3
   },
   "file_extension": ".py",
   "mimetype": "text/x-python",
   "name": "python",
   "nbconvert_exporter": "python",
   "pygments_lexer": "ipython3",
   "version": "3.9.6"
  }
 },
 "nbformat": 4,
 "nbformat_minor": 5
}
