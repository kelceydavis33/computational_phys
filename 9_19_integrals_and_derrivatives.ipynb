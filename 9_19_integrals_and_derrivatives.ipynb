{
 "cells": [
  {
   "cell_type": "code",
   "execution_count": 1,
   "id": "4298f017",
   "metadata": {},
   "outputs": [],
   "source": [
    "import astropy.units as u\n",
    "import astropy.constants as c\n",
    "from astropy.coordinates import SkyCoord\n",
    "from astropy.time import Time\n",
    "import numpy as np\n",
    "import matplotlib.pyplot as plt\n",
    "import pandas as pd\n",
    "import glob\n",
    "%matplotlib inline"
   ]
  },
  {
   "cell_type": "code",
   "execution_count": 2,
   "id": "d2f9672d",
   "metadata": {},
   "outputs": [],
   "source": [
    "plt.rcParams['figure.figsize'] = (10, 10)\n",
    "plt.rc('axes', labelsize=14)\n",
    "plt.rc('axes', labelweight='bold')\n",
    "plt.rc('axes', titlesize=16)\n",
    "plt.rc('axes', titleweight='bold')\n",
    "plt.rc('font', family='sans-serif')"
   ]
  },
  {
   "cell_type": "markdown",
   "id": "ba03f048",
   "metadata": {},
   "source": [
    "# Lecture Notes\n",
    "\n",
    "## Numerical Integration\n",
    "\n",
    "chapter 5\n",
    "\n",
    "$I =  \\int_{a}^{b} f(x) \\,dx \\$"
   ]
  },
  {
   "cell_type": "markdown",
   "id": "d19b6e6d",
   "metadata": {},
   "source": [
    "assume an analytic funtion f(x) defined by a set of points\n",
    "\n",
    "simplest method: area under curve:\n",
    "\n",
    "$I = (b - a) f(a)$"
   ]
  },
  {
   "cell_type": "markdown",
   "id": "51fddc89",
   "metadata": {},
   "source": [
    "try splitting the integral into smaller chunks, sum over smaller chunks"
   ]
  },
  {
   "cell_type": "markdown",
   "id": "486f407b",
   "metadata": {},
   "source": [
    "## Example 1\n",
    "\n",
    "integrate\n",
    "\n",
    "$x^4 - 2x + 1$\n",
    "\n",
    "from x = 0 to x=2"
   ]
  },
  {
   "cell_type": "markdown",
   "id": "d5f9cfb0",
   "metadata": {},
   "source": [
    "exact: 4.4"
   ]
  },
  {
   "cell_type": "code",
   "execution_count": 45,
   "id": "0462efdf",
   "metadata": {},
   "outputs": [],
   "source": [
    "def func(x):\n",
    "    y = (x**4) - (2*x) + 1\n",
    "    return y"
   ]
  },
  {
   "cell_type": "code",
   "execution_count": 48,
   "id": "943985aa",
   "metadata": {},
   "outputs": [],
   "source": [
    "def est_integral(a,b,func, N):\n",
    "    sm = (0.5*func(a))+(0.5*func(b))\n",
    "    delta_x = (b-a)/N\n",
    "    for k in range(1, N):\n",
    "        sm+= func(a + (k* delta_x ))\n",
    "    return(sm * delta_x)"
   ]
  },
  {
   "cell_type": "code",
   "execution_count": 50,
   "id": "20d296f3",
   "metadata": {},
   "outputs": [
    {
     "data": {
      "text/plain": [
       "4.50656"
      ]
     },
     "execution_count": 50,
     "metadata": {},
     "output_type": "execute_result"
    }
   ],
   "source": [
    "est_integral(0, 2, func, 10)"
   ]
  },
  {
   "cell_type": "code",
   "execution_count": 51,
   "id": "d86e97ee",
   "metadata": {},
   "outputs": [
    {
     "data": {
      "text/plain": [
       "4.401066656"
      ]
     },
     "execution_count": 51,
     "metadata": {},
     "output_type": "execute_result"
    }
   ],
   "source": [
    "est_integral(0, 2, func, 100)"
   ]
  },
  {
   "cell_type": "code",
   "execution_count": 52,
   "id": "55c7eca4",
   "metadata": {},
   "outputs": [
    {
     "data": {
      "text/plain": [
       "4.400010666665601"
      ]
     },
     "execution_count": 52,
     "metadata": {},
     "output_type": "execute_result"
    }
   ],
   "source": [
    "est_integral(0, 2, func, 1000)"
   ]
  },
  {
   "cell_type": "code",
   "execution_count": null,
   "id": "6e0315c7",
   "metadata": {},
   "outputs": [],
   "source": []
  },
  {
   "cell_type": "markdown",
   "id": "2e7fcb63",
   "metadata": {},
   "source": [
    "Answer: see lecture 6"
   ]
  },
  {
   "cell_type": "markdown",
   "id": "07b7f63b",
   "metadata": {},
   "source": [
    "find F(A), F(B)....\n",
    "\n",
    "$f(x) = A(x - x_0)^2 + B(x - x_0) + C$"
   ]
  },
  {
   "cell_type": "markdown",
   "id": "02ba8845",
   "metadata": {},
   "source": [
    "$ = \\frac{\\delta}{3}(f_0 + 4 f_1 + f_2)$"
   ]
  },
  {
   "cell_type": "code",
   "execution_count": 81,
   "id": "57db91f0",
   "metadata": {},
   "outputs": [],
   "source": [
    "def simpsons_rule(a, b, func, N):\n",
    "    delta_x = (b-a)/N\n",
    "    sm = (func(a)+ func(b))\n",
    "    for k in np.arange(0, N//2):\n",
    "       # sm+= 4*func(a + ((2*k-1)*delta_x)) + 2*func(a+(2*k*delta_x))\n",
    "        sm += (func(a+2*k*delta_x) + 4*func(a + (2*k+1)*delta_x) + func(a+(2*k+2)*delta_x))\n",
    "    return(sm * delta_x * (1/3))"
   ]
  },
  {
   "cell_type": "code",
   "execution_count": 83,
   "id": "0b40f9ce",
   "metadata": {},
   "outputs": [
    {
     "data": {
      "text/plain": [
       "5.333760000000002"
      ]
     },
     "execution_count": 83,
     "metadata": {},
     "output_type": "execute_result"
    }
   ],
   "source": [
    "simpsons_rule(0,2,func,10)"
   ]
  },
  {
   "cell_type": "code",
   "execution_count": 84,
   "id": "6d5a2679",
   "metadata": {},
   "outputs": [
    {
     "data": {
      "text/plain": [
       "4.493333376000001"
      ]
     },
     "execution_count": 84,
     "metadata": {},
     "output_type": "execute_result"
    }
   ],
   "source": [
    "simpsons_rule(0,2,func,100)"
   ]
  },
  {
   "cell_type": "code",
   "execution_count": 85,
   "id": "f0606d2f",
   "metadata": {},
   "outputs": [
    {
     "data": {
      "text/plain": [
       "4.4093333333375995"
      ]
     },
     "execution_count": 85,
     "metadata": {},
     "output_type": "execute_result"
    }
   ],
   "source": [
    "simpsons_rule(0,2,func,1000)"
   ]
  },
  {
   "cell_type": "code",
   "execution_count": 86,
   "id": "84cf9337",
   "metadata": {},
   "outputs": [
    {
     "data": {
      "text/plain": [
       "4.400933333333331"
      ]
     },
     "execution_count": 86,
     "metadata": {},
     "output_type": "execute_result"
    }
   ],
   "source": [
    "simpsons_rule(0,2,func,10000)"
   ]
  },
  {
   "cell_type": "markdown",
   "id": "bac55b93",
   "metadata": {},
   "source": [
    "see solutions"
   ]
  },
  {
   "cell_type": "markdown",
   "id": "a03b84bd",
   "metadata": {},
   "source": [
    "# Errors"
   ]
  },
  {
   "cell_type": "markdown",
   "id": "401ed59d",
   "metadata": {},
   "source": [
    "euler maclaurian error\n",
    "\n",
    "trapezoidal rule:\n",
    "1/3 |I2-I1|"
   ]
  },
  {
   "cell_type": "code",
   "execution_count": 88,
   "id": "aac3597e",
   "metadata": {},
   "outputs": [
    {
     "data": {
      "text/plain": [
       "0.026633333333333137"
      ]
     },
     "execution_count": 88,
     "metadata": {},
     "output_type": "execute_result"
    }
   ],
   "source": [
    "(1/3)*abs(est_integral(0, 2, func, 20) - est_integral(0, 2, func, 10))"
   ]
  },
  {
   "cell_type": "code",
   "execution_count": null,
   "id": "a7c9c095",
   "metadata": {},
   "outputs": [],
   "source": []
  }
 ],
 "metadata": {
  "kernelspec": {
   "display_name": "Python 3",
   "language": "python",
   "name": "python3"
  },
  "language_info": {
   "codemirror_mode": {
    "name": "ipython",
    "version": 3
   },
   "file_extension": ".py",
   "mimetype": "text/x-python",
   "name": "python",
   "nbconvert_exporter": "python",
   "pygments_lexer": "ipython3",
   "version": "3.9.6"
  }
 },
 "nbformat": 4,
 "nbformat_minor": 5
}
