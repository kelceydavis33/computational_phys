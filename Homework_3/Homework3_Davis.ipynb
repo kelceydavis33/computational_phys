{
 "cells": [
  {
   "cell_type": "markdown",
   "id": "dfae382a",
   "metadata": {},
   "source": [
    "# Homework 3-Kelcey Davis"
   ]
  },
  {
   "cell_type": "code",
   "execution_count": 45,
   "id": "4298f017",
   "metadata": {},
   "outputs": [],
   "source": [
    "import astropy.units as u\n",
    "import astropy.constants as c\n",
    "from astropy.coordinates import SkyCoord\n",
    "from astropy.time import Time\n",
    "import numpy as np\n",
    "import matplotlib.pyplot as plt\n",
    "import pandas as pd\n",
    "import glob\n",
    "%matplotlib inline\n",
    "from gaussxw import *"
   ]
  },
  {
   "cell_type": "code",
   "execution_count": 46,
   "id": "d2f9672d",
   "metadata": {},
   "outputs": [],
   "source": [
    "plt.rcParams['figure.figsize'] = (10, 10)\n",
    "plt.rc('axes', labelsize=14)\n",
    "plt.rc('axes', labelweight='bold')\n",
    "plt.rc('axes', titlesize=16)\n",
    "plt.rc('axes', titleweight='bold')\n",
    "plt.rc('font', family='sans-serif')"
   ]
  },
  {
   "cell_type": "markdown",
   "id": "fe16e5d4",
   "metadata": {},
   "source": [
    "## Problem 1\n",
    "\n",
    "Heat capacity of a solid\n",
    "Debye’s theory of solids gives the heat capacity of a solid at temperature T to be\n",
    "CV = 9Vρk B\n",
    "( T\n",
    "θ D\n",
    ") 3 ∫ θ D /T\n",
    "0\n",
    "x 4 e x\n",
    "( e x − 1 ) 2 dx,\n",
    "where V is the volume of the solid, ρ is the number density of atoms, k B is Boltzmann’s con-\n",
    "stant, and θ D is the so-called Debye temperature, a property of solids that depends on their\n",
    "density and speed of sound.\n",
    "\n",
    "\n",
    "a) Write a Python function cv(T) that calculates CV for a given value of the temperature,\n",
    "for a sample consisting of 1000 cubic centimeters of solid aluminum, which has a number\n",
    "density of ρ = 6.022 × 1028 m − 3 and a Debye temperature of θ D = 428 K. Use Gaussian\n",
    "quadrature to evaluate the integral, with N = 50 sample points. Hint: you can use the\n",
    "function(s) dened in gaussxw.py (from our class exercises).\n",
    "\n",
    "\n",
    "b) Use your function to make a graph of the heat capacity as a function of temperature from\n",
    "T = 5 K to T = 500 K"
   ]
  },
  {
   "cell_type": "markdown",
   "id": "ed77fb7f",
   "metadata": {},
   "source": [
    "a) Write a Python function cv(T) that calculates CV for a given value of the temperature,\n",
    "for a sample consisting of 1000 cubic centimeters of solid aluminum, which has a number\n",
    "density of ρ = 6.022 × 1028 m − 3 and a Debye temperature of θ D = 428 K. Use Gaussian\n",
    "quadrature to evaluate the integral, with N = 50 sample points. Hint: you can use the\n",
    "function(s) dened in gaussxw.py (from our class exercises).\n",
    "\n"
   ]
  },
  {
   "cell_type": "code",
   "execution_count": 115,
   "id": "1ada5ba8",
   "metadata": {},
   "outputs": [],
   "source": [
    "def func(x):\n",
    "    \"\"\"\n",
    "    \n",
    "    \"\"\"\n",
    "    return (((x**4)*(np.e**x))/(((np.e**x)-1)**2))"
   ]
  },
  {
   "cell_type": "code",
   "execution_count": 127,
   "id": "3a5d71d5",
   "metadata": {},
   "outputs": [],
   "source": [
    "def get_gauss(N, a, b, func):\n",
    "    #GAUSSXW FUNCTION CALL FROM CLASS 9/21\n",
    "    ###\n",
    "    # calculate the sample points and weights\n",
    "    x, w = gaussxw(N)\n",
    "    # map the sample points and weights to the required domain\n",
    "    xp = 0.5*(b-a)*x + 0.5*(b+a)\n",
    "    wp = 0.5*(b-a)*w\n",
    "    # perform the integral\n",
    "    s = 0.0\n",
    "    for k in range(N):\n",
    "        s += wp[k] * func(xp[k])\n",
    "    ###\n",
    "    return s"
   ]
  },
  {
   "cell_type": "code",
   "execution_count": 124,
   "id": "e40fc38e",
   "metadata": {},
   "outputs": [],
   "source": [
    "def cv(T):\n",
    "    \"\"\"\n",
    "    \n",
    "    \"\"\"\n",
    "    #Defining the volume and density with correct units\n",
    "    V = 1000 * ((1e-2*(u.m))**3)\n",
    "    rho = 6.022e28*((u.m)**-3)\n",
    "    #Grabbing the Boltzman constant from the astropy constants library\n",
    "    kb = c.k_B\n",
    "    thetaD = 428*u.K\n",
    "    cvint = 9*V*rho*kb*(((T)/(thetaD))**3)\n",
    "    cvint*= get_gauss(N = 50, a = 0, b = thetaD/T, func = func)\n",
    "    return(cvint)"
   ]
  },
  {
   "cell_type": "code",
   "execution_count": 125,
   "id": "85194be1",
   "metadata": {},
   "outputs": [
    {
     "data": {
      "text/latex": [
       "$0.30989422 \\; \\mathrm{\\frac{J}{K}}$"
      ],
      "text/plain": [
       "<Quantity 0.30989422 J / K>"
      ]
     },
     "execution_count": 125,
     "metadata": {},
     "output_type": "execute_result"
    }
   ],
   "source": [
    "cv(5*u.K)"
   ]
  },
  {
   "cell_type": "markdown",
   "id": "9981436a",
   "metadata": {},
   "source": [
    "\n",
    "b) Use your function to make a graph of the heat capacity as a function of temperature from\n",
    "T = 5 K to T = 500 K"
   ]
  },
  {
   "cell_type": "code",
   "execution_count": 126,
   "id": "dc5cd82e",
   "metadata": {},
   "outputs": [
    {
     "data": {
      "image/png": "[encoded data removed]",
      "text/plain": [
       "<Figure size 1080x720 with 1 Axes>"
      ]
     },
     "metadata": {
      "needs_background": "light"
     },
     "output_type": "display_data"
    }
   ],
   "source": [
    "plt.rcParams['figure.figsize'] = (15, 10)\n",
    "xs = np.arange(5,501)*u.K\n",
    "ys = []\n",
    "for x in xs:\n",
    "    ys.append(cv(x).value)\n",
    "plt.plot(xs,ys)\n",
    "plt.title('$C_v$(T)')\n",
    "plt.ylabel('$C_v$ [J/K]')\n",
    "plt.xlabel('T [K]');"
   ]
  },
  {
   "cell_type": "markdown",
   "id": "6884322f",
   "metadata": {},
   "source": [
    "# Problem 2\n",
    "\n",
    "Problem 2: Period of an anharmonic oscillator\n",
    "\n",
    "The simple harmonic oscillator crops up in many places. Its behavior can be studied readily\n",
    "using analytic methods and it has the important property that its period of oscillation is a\n",
    "constant, independent of its amplitude, making it useful, for instance, for keeping time in\n",
    "watches and clocks.\n",
    "Frequently in physics, however, we also come across anharmonic oscillators, whose period\n",
    "varies with amplitude and whose behavior cannot usually be calculated analytically. A general\n",
    "classical oscillator can be thought of as a particle in a concave potential well. When disturbed,\n",
    "the particle will rock back and forth in the well:\n",
    "xV( )\n",
    "x\n",
    "1\n",
    "The harmonic oscillator corresponds to a quadratic potential V ( x ) ∝ x 2 . Any other form gives\n",
    "an anharmonic oscillator. (Thus there are many different kinds of anharmonic oscillator, de-\n",
    "pending on the exact form of the potential.)\n",
    "One way to calculate the motion of an oscillator is to write down the equation for the con-\n",
    "servation of energy in the system. If the particle has mass m and position x, then the total\n",
    "energy is equal to the sum of the kinetic and potential energies thus:\n",
    "E = 1\n",
    "2 m\n",
    "( dx\n",
    "dt\n",
    ") 2\n",
    "+ V ( x ) .\n",
    "Since the energy must be constant over time, this equation is effectively a (nonlinear) differen-\n",
    "tial equation linking x and t.\n",
    "Let us assume that the potential V ( x ) is symmetric about x = 0 and let us set our anhar-\n",
    "monic oscillator going with amplitude a. That is, at t = 0 we release it from rest at position\n",
    "x = a and it swings back towards the origin. Then at t = 0 we have dx/dt = 0 and the\n",
    "equation above reads E = V ( a ) , which gives us the total energy of the particle in terms of\n",
    "the amplitude. When the particle reaches the origin for the rst time, it has gone through one\n",
    "quarter of a period of the oscillator. By rearranging the equation above for dx/dt and then\n",
    "integrating with respect to t from 0 to 1\n",
    "4 T, it can be shown that the period T is given by\n",
    "T = √ 8m\n",
    "∫ a\n",
    "0\n",
    "dx\n",
    "√V ( a ) − V ( x ) .\n",
    "a) Suppose the potential is V ( x ) = x 4 and the mass of the particle is m = 1. Write a Python\n",
    "function that calculates the period of the oscillator for given amplitude a using Gaussian\n",
    "quadrature with N = 20 points, then use your function to make a graph of the period for\n",
    "amplitudes ranging from a = 0 to a = 2.\n",
    "b) You should nd that the oscillator gets faster as the amplitude increases, even though the\n",
    "particle has further to travel for larger amplitude. And you should nd that the period\n",
    "diverges as the amplitude goes to zero. How do you explain these results"
   ]
  },
  {
   "cell_type": "markdown",
   "id": "a5051509",
   "metadata": {},
   "source": [
    "a) Suppose the potential is V ( x ) = x 4 and the mass of the particle is m = 1. Write a Python\n",
    "function that calculates the period of the oscillator for given amplitude a using Gaussian\n",
    "quadrature with N = 20 points, then use your function to make a graph of the period for\n",
    "amplitudes ranging from a = 0 to a = 2.\n"
   ]
  },
  {
   "cell_type": "code",
   "execution_count": 128,
   "id": "b6a1c184",
   "metadata": {},
   "outputs": [],
   "source": [
    "def get_gaussV(N, a, b, func):\n",
    "    #GAUSSXW FUNCTION CALL FROM CLASS 9/21\n",
    "    ###\n",
    "    # calculate the sample points and weights\n",
    "    x, w = gaussxw(N)\n",
    "    # map the sample points and weights to the required domain\n",
    "    xp = 0.5*(b-a)*x + 0.5*(b+a)\n",
    "    wp = 0.5*(b-a)*w\n",
    "    # perform the integral\n",
    "    s = 0.0\n",
    "    for k in range(N):\n",
    "        s += wp[k] * func(xp[k], b)\n",
    "    ###\n",
    "    return s"
   ]
  },
  {
   "cell_type": "code",
   "execution_count": 129,
   "id": "6e35d548",
   "metadata": {},
   "outputs": [],
   "source": [
    "def V(x):\n",
    "    return x**4"
   ]
  },
  {
   "cell_type": "code",
   "execution_count": 130,
   "id": "27e3fdc4",
   "metadata": {},
   "outputs": [],
   "source": [
    "def vfunc(x,A):\n",
    "    return((1)/(V(x) - V(A)))"
   ]
  },
  {
   "cell_type": "code",
   "execution_count": 131,
   "id": "d5795505",
   "metadata": {},
   "outputs": [],
   "source": [
    "def T(A):\n",
    "    m = 1\n",
    "    intgrl = get_gaussV(N = 20, a = 0, b = A, func = vfunc)\n",
    "    return np.sqrt(8*m)*intgrl"
   ]
  },
  {
   "cell_type": "code",
   "execution_count": 132,
   "id": "ebfbf432",
   "metadata": {},
   "outputs": [
    {
     "name": "stderr",
     "output_type": "stream",
     "text": [
      "<ipython-input-130-5f61c84b9d6b>:2: RuntimeWarning: divide by zero encountered in double_scalars\n",
      "  return((1)/(V(x) - V(A)))\n",
      "<ipython-input-128-8ca95499ffdd>:12: RuntimeWarning: invalid value encountered in double_scalars\n",
      "  s += wp[k] * func(xp[k], b)\n"
     ]
    },
    {
     "data": {
      "image/png": "[encoded data removed]",
      "text/plain": [
       "<Figure size 720x720 with 1 Axes>"
      ]
     },
     "metadata": {
      "needs_background": "light"
     },
     "output_type": "display_data"
    }
   ],
   "source": [
    "plt.rcParams['figure.figsize'] = (10, 10)\n",
    "xs = np.arange(0,2,.01)\n",
    "ys = []\n",
    "for x in xs:\n",
    "    ys.append(T(x))\n",
    "plt.plot(xs,ys)\n",
    "\n",
    "plt.title('T(x)')\n",
    "plt.xlabel('$C_v$ [J/K]')\n",
    "plt.xlabel('T [K]');"
   ]
  },
  {
   "cell_type": "code",
   "execution_count": 113,
   "id": "e25e40c5",
   "metadata": {},
   "outputs": [
    {
     "data": {
      "text/plain": [
       "[nan,\n",
       " -6688822.023293912,\n",
       " -836102.752911739,\n",
       " -247734.1490108859,\n",
       " -104512.84411396738,\n",
       " -53510.5761863513,\n",
       " -30966.76862636074,\n",
       " -19500.938843422533,\n",
       " -13064.105514245923,\n",
       " -9175.338852255076,\n",
       " -6688.822023293913,\n",
       " -5025.41098669719,\n",
       " -3870.8460782950924,\n",
       " -3044.525272323145,\n",
       " -2437.6173554278166,\n",
       " -1981.8731920870835,\n",
       " -1633.0131892807403,\n",
       " -1361.453699021768,\n",
       " -1146.9173565318845,\n",
       " -975.1890980163206,\n",
       " -836.1027529117391,\n",
       " -722.2569942008308,\n",
       " -628.1763733371488,\n",
       " -549.7511320205374,\n",
       " -483.85575978688655,\n",
       " -428.08460949081024,\n",
       " -380.56565904039314,\n",
       " -339.8273648983328,\n",
       " -304.7021694284771,\n",
       " -274.2556899952425,\n",
       " -247.73414901088543,\n",
       " -224.52492441656395,\n",
       " -204.12664866009254,\n",
       " -186.1263328406356,\n",
       " -170.181712377721,\n",
       " -156.00751074737985,\n",
       " -143.36466956648556,\n",
       " -132.05184339118884,\n",
       " -121.89863725204007,\n",
       " -112.76019527122621,\n",
       " -104.51284411396739,\n",
       " -97.05056547777787,\n",
       " -90.28212427510385,\n",
       " -84.1287185190477,\n",
       " -78.5220466671436,\n",
       " -73.40271081804035,\n",
       " -68.71889150256717,\n",
       " -64.4252431859405,\n",
       " -60.48196997336082,\n",
       " -56.854049106187816,\n",
       " -53.51057618635128,\n",
       " -50.42421107488034,\n",
       " -47.57070738004914,\n",
       " -44.928511612229315,\n",
       " -42.4784206122916,\n",
       " -40.203287893577276,\n",
       " -38.087771178559635,\n",
       " -36.118114741345174,\n",
       " -34.28196124940531,\n",
       " -32.56818868187055,\n",
       " -30.96676862636068,\n",
       " -29.468642852458757,\n",
       " -28.065615552070494,\n",
       " -26.750259044475452,\n",
       " -25.515831082511568,\n",
       " -24.356202178584972,\n",
       " -23.26579160507945,\n",
       " -22.23951092153573,\n",
       " -21.272714047215125,\n",
       " -20.36115303779775,\n",
       " -19.50093884342248,\n",
       " -18.68850642560274,\n",
       " -17.920583695810695,\n",
       " -17.19416381107738,\n",
       " -16.506480423898605,\n",
       " -15.854985536696658,\n",
       " -15.23732965650501,\n",
       " -14.651343984539862,\n",
       " -14.095024408903276,\n",
       " -13.566517097620839,\n",
       " -13.064105514245924,\n",
       " -12.586198699938327,\n",
       " -12.131320684722233,\n",
       " -11.698100906970392,\n",
       " -11.285265534387982,\n",
       " -10.891629592174116,\n",
       " -10.516089814880962,\n",
       " -10.157618147971812,\n",
       " -9.81525583339295,\n",
       " -9.488108020769591,\n",
       " -9.175338852255043,\n",
       " -8.876166974703013,\n",
       " -8.589861437820897,\n",
       " -8.315737941354309,\n",
       " -8.053155398242563,\n",
       " -7.801512784130533,\n",
       " -7.560246246670102,\n",
       " -7.328826450759398,\n",
       " -7.106756138273477,\n",
       " -6.8935678829864875,\n",
       " -6.68882202329391,\n",
       " -6.492104757050593,\n",
       " -6.3030263843600425,\n",
       " -6.121219685515134,\n",
       " -5.946338422506143,\n",
       " -5.778055953606662,\n",
       " -5.616063951528664,\n",
       " -5.46007121651562,\n",
       " -5.30980257653645,\n",
       " -5.164997867456124,\n",
       " -5.0254109866971595,\n",
       " -4.890809014488538,\n",
       " -4.760971397319954,\n",
       " -4.635689188690452,\n",
       " -4.514764342668147,\n",
       " -4.398009056164323,\n",
       " -4.285245156175664,\n",
       " -4.176303528563975,\n",
       " -4.071023585233819,\n",
       " -3.9692527668273136,\n",
       " -3.870846078295085,\n",
       " -3.7756656549189485,\n",
       " -3.6835803565573446,\n",
       " -3.5944653880658293,\n",
       " -3.5082019440088117,\n",
       " -3.424676875926477,\n",
       " -3.3437823805594316,\n",
       " -3.2654157075575756,\n",
       " -3.189478885313946,\n",
       " -3.11587846366844,\n",
       " -3.0445252723231215,\n",
       " -2.975334193897788,\n",
       " -2.908223950634931,\n",
       " -2.8431169038376476,\n",
       " -2.779938865191966,\n",
       " -2.7186189191866674,\n",
       " -2.6590892559018906,\n",
       " -2.601285013490535,\n",
       " -2.5451441297247186,\n",
       " -2.4906072020245427,\n",
       " -2.43761735542781,\n",
       " -2.3861201179978204,\n",
       " -2.3360633032003424,\n",
       " -2.2873968988152718,\n",
       " -2.240072961976337,\n",
       " -2.194045519961915,\n",
       " -2.1492704763846726,\n",
       " -2.1057055224514105,\n",
       " -2.0633100529873256,\n",
       " -2.022045086938724,\n",
       " -1.9818731920870822,\n",
       " -1.9427584137253078,\n",
       " -1.9046662070631262,\n",
       " -1.8675633731437007,\n",
       " -1.8314179980674827,\n",
       " -1.7961993953325277,\n",
       " -1.7618780511129095,\n",
       " -1.7284255723075344,\n",
       " -1.6958146372026048,\n",
       " -1.664018948601087,\n",
       " -1.6330131892807405,\n",
       " -1.6027729796517303,\n",
       " -1.573274837492291,\n",
       " -1.544496139648402,\n",
       " -1.5164150855902792,\n",
       " -1.48901066272508,\n",
       " -1.462262613371299,\n",
       " -1.436151403305603,\n",
       " -1.4106581917984977,\n",
       " -1.3857648030601422,\n",
       " -1.3614536990217645,\n",
       " -1.3377079533831462,\n",
       " -1.3145112268601202,\n",
       " -1.2918477435699744,\n",
       " -1.2697022684964765,\n",
       " -1.24806008597904,\n",
       " -1.2269069791741187,\n",
       " -1.2062292104396508,\n",
       " -1.1860135025961989,\n",
       " -1.1662470210207125,\n",
       " -1.1469173565318804,\n",
       " -1.1280125090276096,\n",
       " -1.1095208718378766,\n",
       " -1.0914312167577243,\n",
       " -1.073732679727612,\n",
       " -1.0564147471295147,\n",
       " -1.0394672426692886,\n",
       " -1.0228803148172532,\n",
       " -1.0066444247803203,\n",
       " -0.9907503349805667,\n",
       " -0.9751890980163166,\n",
       " -0.9599520460832123,\n",
       " -0.9450307808337628,\n",
       " -0.9304171636549686,\n",
       " -0.9161033063449248,\n",
       " -0.9020815621698164,\n",
       " -0.8883445172841846,\n",
       " -0.8748849824977686,\n",
       " -0.8616959853733109,\n",
       " -0.8487707626404888]"
      ]
     },
     "execution_count": 113,
     "metadata": {},
     "output_type": "execute_result"
    }
   ],
   "source": [
    "ys"
   ]
  },
  {
   "cell_type": "markdown",
   "id": "16d35e2c",
   "metadata": {},
   "source": [
    "b) You should nd that the oscillator gets faster as the amplitude increases, even though the\n",
    "particle has further to travel for larger amplitude. And you should nd that the period\n",
    "diverges as the amplitude goes to zero. How do you explain these results"
   ]
  },
  {
   "cell_type": "code",
   "execution_count": null,
   "id": "27fd1a34",
   "metadata": {},
   "outputs": [],
   "source": []
  },
  {
   "cell_type": "markdown",
   "id": "794a9a35",
   "metadata": {},
   "source": [
    "# Problem 3\n",
    "\n",
    "Problem 3: The Stefan–Boltzmann constant\n",
    "\n",
    "The Planck theory of thermal radiation tells us that in the (angular) frequency interval ω to\n",
    "ω + dω, a black body of unit area radiates electromagnetically an amount of thermal energy\n",
    "per second equal to I ( ω ) dω, where\n",
    "I ( ω ) =  ̄h\n",
    "4π 2 c 2\n",
    "ω 3\n",
    "( e  ̄hω/k B T − 1 ) .\n",
    "Here  ̄h is Planck’s constant over 2π, c is the speed of light, and k B is Boltzmann’s constant.\n",
    "Integrating over frequency, it can be shown that the total energy per unit area radiated by a\n",
    "black body is\n",
    "W = k 4\n",
    "B T 4\n",
    "4π 2 c 2  ̄h 3\n",
    "∫ ∞\n",
    "0\n",
    "x 3\n",
    "e x − 1 dx.\n",
    "2\n",
    "a) Write a program to evaluate the integral in this expression. Explain what method you\n",
    "used, and how accurate you think your answer is.\n",
    "b) Even before Planck gave his theory of thermal radiation around the turn of the 20th cen-\n",
    "tury, it was known that the total energy W given off by a black body per unit area per\n",
    "second followed Stefan’s law: W = σT 4 , where σ is the Stefan–Boltzmann constant. Use\n",
    "your value for the integral above to compute a value for the Stefan–Boltzmann constant\n",
    "(in SI units) to three signicant gures. Check your result against the known value, which\n",
    "you can nd in books or on-line. You should get good agreement"
   ]
  },
  {
   "cell_type": "markdown",
   "id": "a1b20793",
   "metadata": {},
   "source": [
    "a) Write a program to evaluate the integral in this expression. Explain what method you\n",
    "used, and how accurate you think your answer is.\n"
   ]
  },
  {
   "cell_type": "markdown",
   "id": "8827ada7",
   "metadata": {},
   "source": [
    "From numerical integration in class:\n",
    "\n",
    "$I = \\int_{0}^{\\infty} f(x) \\,dx $\n",
    "\n",
    "$z = \\frac{x}{1+x}$\n",
    "\n",
    "$x = \\frac{z}{1-z}$\n",
    "\n",
    "$dx = \\frac{dz}{(1-z)^2}$\n",
    "\n",
    "$I = \\int_{0}^{1} f(\\frac{z}{1-z}) \\, \\frac{dz}{(1-z)^2}$"
   ]
  },
  {
   "cell_type": "markdown",
   "id": "d2c7d2ab",
   "metadata": {},
   "source": [
    "now we have a bound integral and we can use gaussian quadrature to evaluate it."
   ]
  },
  {
   "cell_type": "markdown",
   "id": "a00a1f36",
   "metadata": {},
   "source": [
    "$W \\approx \\int_{0}^{\\infty} \\frac{x^3}{e^x -1} \\,dx $"
   ]
  },
  {
   "cell_type": "markdown",
   "id": "d0b52401",
   "metadata": {},
   "source": [
    "$f(x) = \\frac{x^3}{e^x -1}$\n"
   ]
  },
  {
   "cell_type": "markdown",
   "id": "e50690c7",
   "metadata": {},
   "source": [
    "$W \\approx \\int_{0}^{1} \\frac{(\\frac{z}{1-z})^3}{e^(\\frac{z}{1-z}) -1} \\frac{1}{(1-z)^2} \\,dz $"
   ]
  },
  {
   "cell_type": "code",
   "execution_count": 136,
   "id": "d7a9d506",
   "metadata": {},
   "outputs": [],
   "source": [
    "def funcz(z):\n",
    "    \"\"\"\n",
    "    \n",
    "    \"\"\"\n",
    "    return(((((z)/(1-z))**3)/((np.e**((z)/(1-z)))-1))*((1)/((1-z)**2)))"
   ]
  },
  {
   "cell_type": "code",
   "execution_count": 148,
   "id": "0e131b78",
   "metadata": {},
   "outputs": [
    {
     "name": "stdout",
     "output_type": "stream",
     "text": [
      "6.493242550961994\n"
     ]
    }
   ],
   "source": [
    "W = get_gauss(N = 20, a = 0, b = 1, func = funcz)\n",
    "print(W)"
   ]
  },
  {
   "cell_type": "markdown",
   "id": "792f7cd0",
   "metadata": {},
   "source": [
    "Explain what method you\n",
    "used, and how accurate you think your answer is.\n"
   ]
  },
  {
   "cell_type": "code",
   "execution_count": null,
   "id": "6a043798",
   "metadata": {},
   "outputs": [],
   "source": []
  },
  {
   "cell_type": "markdown",
   "id": "498ffa26",
   "metadata": {},
   "source": [
    "b) Even before Planck gave his theory of thermal radiation around the turn of the 20th cen-\n",
    "tury, it was known that the total energy W given off by a black body per unit area per\n",
    "second followed Stefan’s law: W = σT 4 , where σ is the Stefan–Boltzmann constant. Use\n",
    "your value for the integral above to compute a value for the Stefan–Boltzmann constant\n",
    "(in SI units) to three signicant gures. Check your result against the known value, which\n",
    "you can nd in books or on-line. You should get good agreement"
   ]
  },
  {
   "cell_type": "markdown",
   "id": "7adc074c",
   "metadata": {},
   "source": [
    "$W = \\frac{k_B^4 T^4}{4 \\pi^2c^2 \\hbar^3 }\\int_{0}^{\\infty} \\frac{x^3}{e^x -1} \\,dx  = \\sigma T^4$\n",
    "\n",
    "$\\frac{k_B^4 }{4 \\pi^2c^2 \\hbar^3 }\\int_{0}^{\\infty} \\frac{x^3}{e^x -1} \\,dx  = \\sigma $"
   ]
  },
  {
   "cell_type": "code",
   "execution_count": 158,
   "id": "3cc7cb80",
   "metadata": {},
   "outputs": [
    {
     "name": "stdout",
     "output_type": "stream",
     "text": [
      "Our calculated Stephan-Boltzman constant is:\n"
     ]
    },
    {
     "data": {
      "text/latex": [
       "$5.6697659 \\times 10^{-8} \\; \\mathrm{\\frac{W}{m^{2}\\,K^{4}}}$"
      ],
      "text/plain": [
       "<Quantity 5.66976594e-08 W / (K4 m2)>"
      ]
     },
     "execution_count": 158,
     "metadata": {},
     "output_type": "execute_result"
    }
   ],
   "source": [
    "sigma = W * (c.k_B **4)/(4 * (np.pi**2) * (c.c**2)* (c.hbar**3))\n",
    "print('Our calculated Stephan-Boltzman constant is:')\n",
    "sigma.to((u.W)/(u.m**2 * u.K**4))"
   ]
  },
  {
   "cell_type": "code",
   "execution_count": 157,
   "id": "3a471c4b",
   "metadata": {},
   "outputs": [
    {
     "name": "stdout",
     "output_type": "stream",
     "text": [
      "The true Stephan-Boltzman constant is:\n"
     ]
    },
    {
     "data": {
      "text/latex": [
       "$5.6703744 \\times 10^{-8} \\; \\mathrm{\\frac{W}{m^{2}\\,K^{4}}}$"
      ],
      "text/plain": [
       "<<class 'astropy.constants.codata2018.CODATA2018'> name='Stefan-Boltzmann constant' value=5.6703744191844314e-08 uncertainty=0.0 unit='W / (K4 m2)' reference='CODATA 2018'>"
      ]
     },
     "execution_count": 157,
     "metadata": {},
     "output_type": "execute_result"
    }
   ],
   "source": [
    "print('The true Stephan-Boltzman constant is:')\n",
    "c.sigma_sb"
   ]
  },
  {
   "cell_type": "markdown",
   "id": "0ce4f5a8",
   "metadata": {},
   "source": [
    "# Problem 4\n",
    "\n",
    "Problem 4: Quantum uncertainty in the harmonic oscillator\n",
    "\n",
    "\n",
    "In units where all the constants are 1, the wavefunction of the nth energy level of the one-\n",
    "dimensional quantum harmonic oscillator—i.e., a spinless point particle in a quadratic poten-\n",
    "tial well—is given by\n",
    "ψn ( x ) = 1\n",
    "√2 n n! √ π e − x 2 /2 Hn ( x ) ,\n",
    "for n = 0 . . . ∞, where Hn ( x ) is the nth Hermite polynomial. Hermite polynomials satisfy a\n",
    "relation somewhat similar to that for the Fibonacci numbers, although more complex:\n",
    "Hn + 1 ( x ) = 2xHn ( x ) − 2nHn − 1 ( x ) .\n",
    "The rst two Hermite polynomials are H0 ( x ) = 1 and H1 ( x ) = 2x.\n",
    "a) Write a user-dened function H(n,x) that calculates Hn ( x ) for given x and any integer\n",
    "n ≥ 0. Use your function to make a plot that shows the harmonic oscillator wavefunc-\n",
    "tions for n = 0, 1, 2, and 3, all on the same graph, in the range x = − 4 to x = 4. Hint:\n",
    "There is a function factorial in the math package that calculates the factorial of an inte-\n",
    "ger.\n",
    "b) Make a separate plot of the wavefunction for n = 30 from x = − 10 to x = 10. Hint: If\n",
    "your program takes too long to run in this case, then you’re doing the calculation wrong—\n",
    "the program should take only a second or so to run.\n",
    "c) The quantum uncertainty of a particle in the nth level of a quantum harmonic oscillator\n",
    "can be quantied by its root-mean-square position √ ⟨ x 2 ⟩ , where\n",
    "⟨ x 2 ⟩ =\n",
    "∫ ∞\n",
    "− ∞\n",
    "x 2 | ψn ( x )| 2 dx.\n",
    "Write a program that evaluates this integral using Gaussian quadrature on 100 points\n",
    "and then calculates the uncertainty (i.e., the root-mean-square position of the particle) for\n",
    "a given value of n. Use your program to calculate the uncertainty for n = 5. You should\n",
    "get an answer in the vicinity of √ ⟨ x 2 ⟩ = 2.3.\n",
    "\n"
   ]
  },
  {
   "cell_type": "markdown",
   "id": "00df9dec",
   "metadata": {},
   "source": [
    "a) Write a user-dened function H(n,x) that calculates Hn ( x ) for given x and any integer\n",
    "n ≥ 0. Use your function to make a plot that shows the harmonic oscillator wavefunc-\n",
    "tions for n = 0, 1, 2, and 3, all on the same graph, in the range x = − 4 to x = 4. Hint:\n",
    "There is a function factorial in the math package that calculates the factorial of an inte-\n",
    "ger.\n",
    "\n"
   ]
  },
  {
   "cell_type": "code",
   "execution_count": null,
   "id": "4702cd72",
   "metadata": {},
   "outputs": [],
   "source": []
  },
  {
   "cell_type": "markdown",
   "id": "fb39fd51",
   "metadata": {},
   "source": [
    "b) Make a separate plot of the wavefunction for n = 30 from x = − 10 to x = 10. Hint: If\n",
    "your program takes too long to run in this case, then you’re doing the calculation wrong—\n",
    "the program should take only a second or so to run.\n",
    "\n"
   ]
  },
  {
   "cell_type": "code",
   "execution_count": null,
   "id": "92ed6901",
   "metadata": {},
   "outputs": [],
   "source": []
  },
  {
   "cell_type": "markdown",
   "id": "1a50bb15",
   "metadata": {},
   "source": [
    "c) The quantum uncertainty of a particle in the nth level of a quantum harmonic oscillator\n",
    "can be quantied by its root-mean-square position √ ⟨ x 2 ⟩ , where\n",
    "⟨ x 2 ⟩ =\n",
    "∫ ∞\n",
    "− ∞\n",
    "x 2 | ψn ( x )| 2 dx.\n",
    "Write a program that evaluates this integral using Gaussian quadrature on 100 points\n",
    "and then calculates the uncertainty (i.e., the root-mean-square position of the particle) for\n",
    "a given value of n. Use your program to calculate the uncertainty for n = 5. You should\n",
    "get an answer in the vicinity of √ ⟨ x 2 ⟩ = 2.3."
   ]
  },
  {
   "cell_type": "code",
   "execution_count": null,
   "id": "8b1a49c3",
   "metadata": {},
   "outputs": [],
   "source": []
  },
  {
   "cell_type": "code",
   "execution_count": null,
   "id": "e8a2d01a",
   "metadata": {},
   "outputs": [],
   "source": []
  }
 ],
 "metadata": {
  "kernelspec": {
   "display_name": "Python 3",
   "language": "python",
   "name": "python3"
  },
  "language_info": {
   "codemirror_mode": {
    "name": "ipython",
    "version": 3
   },
   "file_extension": ".py",
   "mimetype": "text/x-python",
   "name": "python",
   "nbconvert_exporter": "python",
   "pygments_lexer": "ipython3",
   "version": "3.9.6"
  }
 },
 "nbformat": 4,
 "nbformat_minor": 5
}
