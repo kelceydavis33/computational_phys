{
 "cells": [
  {
   "cell_type": "markdown",
   "id": "45167cb0",
   "metadata": {},
   "source": [
    "# Homework 3-Kelcey Davis"
   ]
  },
  {
   "cell_type": "code",
   "execution_count": 45,
   "id": "4298f017",
   "metadata": {},
   "outputs": [],
   "source": [
    "import astropy.units as u\n",
    "import astropy.constants as c\n",
    "from astropy.coordinates import SkyCoord\n",
    "from astropy.time import Time\n",
    "import numpy as np\n",
    "import matplotlib.pyplot as plt\n",
    "import pandas as pd\n",
    "import glob\n",
    "%matplotlib inline\n",
    "from gaussxw import *"
   ]
  },
  {
   "cell_type": "code",
   "execution_count": 46,
   "id": "d2f9672d",
   "metadata": {},
   "outputs": [],
   "source": [
    "plt.rcParams['figure.figsize'] = (10, 10)\n",
    "plt.rc('axes', labelsize=14)\n",
    "plt.rc('axes', labelweight='bold')\n",
    "plt.rc('axes', titlesize=16)\n",
    "plt.rc('axes', titleweight='bold')\n",
    "plt.rc('font', family='sans-serif')"
   ]
  },
  {
   "cell_type": "markdown",
   "id": "eaaa74c5",
   "metadata": {},
   "source": [
    "## Problem 1\n",
    "\n",
    "Heat capacity of a solid\n",
    "Debye’s theory of solids gives the heat capacity of a solid at temperature T to be\n",
    "CV = 9Vρk B\n",
    "( T\n",
    "θ D\n",
    ") 3 ∫ θ D /T\n",
    "0\n",
    "x 4 e x\n",
    "( e x − 1 ) 2 dx,\n",
    "where V is the volume of the solid, ρ is the number density of atoms, k B is Boltzmann’s con-\n",
    "stant, and θ D is the so-called Debye temperature, a property of solids that depends on their\n",
    "density and speed of sound.\n",
    "\n",
    "\n",
    "a) Write a Python function cv(T) that calculates CV for a given value of the temperature,\n",
    "for a sample consisting of 1000 cubic centimeters of solid aluminum, which has a number\n",
    "density of ρ = 6.022 × 1028 m − 3 and a Debye temperature of θ D = 428 K. Use Gaussian\n",
    "quadrature to evaluate the integral, with N = 50 sample points. Hint: you can use the\n",
    "function(s) dened in gaussxw.py (from our class exercises).\n",
    "\n",
    "\n",
    "b) Use your function to make a graph of the heat capacity as a function of temperature from\n",
    "T = 5 K to T = 500 K"
   ]
  },
  {
   "cell_type": "markdown",
   "id": "7c958214",
   "metadata": {},
   "source": [
    "a) Write a Python function cv(T) that calculates CV for a given value of the temperature,\n",
    "for a sample consisting of 1000 cubic centimeters of solid aluminum, which has a number\n",
    "density of ρ = 6.022 × 1028 m − 3 and a Debye temperature of θ D = 428 K. Use Gaussian\n",
    "quadrature to evaluate the integral, with N = 50 sample points. Hint: you can use the\n",
    "function(s) dened in gaussxw.py (from our class exercises).\n",
    "\n"
   ]
  },
  {
   "cell_type": "code",
   "execution_count": 115,
   "id": "eda78837",
   "metadata": {},
   "outputs": [],
   "source": [
    "def func(x):\n",
    "    \"\"\"\n",
    "    \n",
    "    \"\"\"\n",
    "    return (((x**4)*(np.e**x))/(((np.e**x)-1)**2))"
   ]
  },
  {
   "cell_type": "code",
   "execution_count": 127,
   "id": "4ad6c6d4",
   "metadata": {},
   "outputs": [],
   "source": [
    "def get_gauss(N, a, b, func):\n",
    "    #GAUSSXW FUNCTION CALL FROM CLASS 9/21\n",
    "    ###\n",
    "    # calculate the sample points and weights\n",
    "    x, w = gaussxw(N)\n",
    "    # map the sample points and weights to the required domain\n",
    "    xp = 0.5*(b-a)*x + 0.5*(b+a)\n",
    "    wp = 0.5*(b-a)*w\n",
    "    # perform the integral\n",
    "    s = 0.0\n",
    "    for k in range(N):\n",
    "        s += wp[k] * func(xp[k])\n",
    "    ###\n",
    "    return s"
   ]
  },
  {
   "cell_type": "code",
   "execution_count": 124,
   "id": "6d9654f6",
   "metadata": {},
   "outputs": [],
   "source": [
    "def cv(T):\n",
    "    \"\"\"\n",
    "    \n",
    "    \"\"\"\n",
    "    #Defining the volume and density with correct units\n",
    "    V = 1000 * ((1e-2*(u.m))**3)\n",
    "    rho = 6.022e28*((u.m)**-3)\n",
    "    #Grabbing the Boltzman constant from the astropy constants library\n",
    "    kb = c.k_B\n",
    "    thetaD = 428*u.K\n",
    "    cvint = 9*V*rho*kb*(((T)/(thetaD))**3)\n",
    "    cvint*= get_gauss(N = 50, a = 0, b = thetaD/T, func = func)\n",
    "    return(cvint)"
   ]
  },
  {
   "cell_type": "code",
   "execution_count": 125,
   "id": "a67482d1",
   "metadata": {},
   "outputs": [
    {
     "data": {
      "text/latex": [
       "$0.30989422 \\; \\mathrm{\\frac{J}{K}}$"
      ],
      "text/plain": [
       "<Quantity 0.30989422 J / K>"
      ]
     },
     "execution_count": 125,
     "metadata": {},
     "output_type": "execute_result"
    }
   ],
   "source": [
    "cv(5*u.K)"
   ]
  },
  {
   "cell_type": "markdown",
   "id": "78a2e560",
   "metadata": {},
   "source": [
    "\n",
    "b) Use your function to make a graph of the heat capacity as a function of temperature from\n",
    "T = 5 K to T = 500 K"
   ]
  },
  {
   "cell_type": "code",
   "execution_count": 126,
   "id": "dc5cd82e",
   "metadata": {},
   "outputs": [
    {
     "data": {
      "image/png": "[encoded data removed]",
      "text/plain": [
       "<Figure size 1080x720 with 1 Axes>"
      ]
     },
     "metadata": {
      "needs_background": "light"
     },
     "output_type": "display_data"
    }
   ],
   "source": [
    "plt.rcParams['figure.figsize'] = (15, 10)\n",
    "xs = np.arange(5,501)*u.K\n",
    "ys = []\n",
    "for x in xs:\n",
    "    ys.append(cv(x).value)\n",
    "plt.plot(xs,ys)\n",
    "plt.title('$C_v$(T)')\n",
    "plt.ylabel('$C_v$ [J/K]')\n",
    "plt.xlabel('T [K]');"
   ]
  },
  {
   "cell_type": "markdown",
   "id": "21d084d5",
   "metadata": {},
   "source": [
    "# Problem 2\n",
    "\n",
    "Problem 2: Period of an anharmonic oscillator\n",
    "\n",
    "The simple harmonic oscillator crops up in many places. Its behavior can be studied readily\n",
    "using analytic methods and it has the important property that its period of oscillation is a\n",
    "constant, independent of its amplitude, making it useful, for instance, for keeping time in\n",
    "watches and clocks.\n",
    "Frequently in physics, however, we also come across anharmonic oscillators, whose period\n",
    "varies with amplitude and whose behavior cannot usually be calculated analytically. A general\n",
    "classical oscillator can be thought of as a particle in a concave potential well. When disturbed,\n",
    "the particle will rock back and forth in the well:\n",
    "xV( )\n",
    "x\n",
    "1\n",
    "The harmonic oscillator corresponds to a quadratic potential V ( x ) ∝ x 2 . Any other form gives\n",
    "an anharmonic oscillator. (Thus there are many different kinds of anharmonic oscillator, de-\n",
    "pending on the exact form of the potential.)\n",
    "One way to calculate the motion of an oscillator is to write down the equation for the con-\n",
    "servation of energy in the system. If the particle has mass m and position x, then the total\n",
    "energy is equal to the sum of the kinetic and potential energies thus:\n",
    "E = 1\n",
    "2 m\n",
    "( dx\n",
    "dt\n",
    ") 2\n",
    "+ V ( x ) .\n",
    "Since the energy must be constant over time, this equation is effectively a (nonlinear) differen-\n",
    "tial equation linking x and t.\n",
    "Let us assume that the potential V ( x ) is symmetric about x = 0 and let us set our anhar-\n",
    "monic oscillator going with amplitude a. That is, at t = 0 we release it from rest at position\n",
    "x = a and it swings back towards the origin. Then at t = 0 we have dx/dt = 0 and the\n",
    "equation above reads E = V ( a ) , which gives us the total energy of the particle in terms of\n",
    "the amplitude. When the particle reaches the origin for the rst time, it has gone through one\n",
    "quarter of a period of the oscillator. By rearranging the equation above for dx/dt and then\n",
    "integrating with respect to t from 0 to 1\n",
    "4 T, it can be shown that the period T is given by\n",
    "T = √ 8m\n",
    "∫ a\n",
    "0\n",
    "dx\n",
    "√V ( a ) − V ( x ) .\n",
    "a) Suppose the potential is V ( x ) = x 4 and the mass of the particle is m = 1. Write a Python\n",
    "function that calculates the period of the oscillator for given amplitude a using Gaussian\n",
    "quadrature with N = 20 points, then use your function to make a graph of the period for\n",
    "amplitudes ranging from a = 0 to a = 2.\n",
    "b) You should nd that the oscillator gets faster as the amplitude increases, even though the\n",
    "particle has further to travel for larger amplitude. And you should nd that the period\n",
    "diverges as the amplitude goes to zero. How do you explain these results"
   ]
  },
  {
   "cell_type": "markdown",
   "id": "7cd120e8",
   "metadata": {},
   "source": [
    "a) Suppose the potential is V ( x ) = x 4 and the mass of the particle is m = 1. Write a Python\n",
    "function that calculates the period of the oscillator for given amplitude a using Gaussian\n",
    "quadrature with N = 20 points, then use your function to make a graph of the period for\n",
    "amplitudes ranging from a = 0 to a = 2.\n"
   ]
  },
  {
   "cell_type": "code",
   "execution_count": 167,
   "id": "e378a7f0",
   "metadata": {},
   "outputs": [],
   "source": [
    "def get_gaussV(N, a, b, func):\n",
    "    #GAUSSXW FUNCTION CALL FROM CLASS 9/21\n",
    "    ###\n",
    "    # calculate the sample points and weights\n",
    "    x, w = gaussxw(N)\n",
    "    # map the sample points and weights to the required domain\n",
    "    xp = 0.5*(b-a)*x + 0.5*(b+a)\n",
    "    wp = 0.5*(b-a)*w\n",
    "    # perform the integral\n",
    "    s = 0.0\n",
    "    for k in range(N):\n",
    "        s += wp[k] * func(xp[k], A = b)\n",
    "    ###\n",
    "    return s"
   ]
  },
  {
   "cell_type": "code",
   "execution_count": 168,
   "id": "9eae23bc",
   "metadata": {},
   "outputs": [],
   "source": [
    "def V(x):\n",
    "    return x**4"
   ]
  },
  {
   "cell_type": "code",
   "execution_count": 172,
   "id": "0e1bbd93",
   "metadata": {},
   "outputs": [],
   "source": [
    "def vfunc(x,A):\n",
    "    return((1)/np.sqrt(V(A) - V(x)))"
   ]
  },
  {
   "cell_type": "code",
   "execution_count": 173,
   "id": "b8f13c49",
   "metadata": {},
   "outputs": [],
   "source": [
    "def T(A):\n",
    "    m = 1\n",
    "    intgrl = get_gaussV(N = 20, a = 0, b = A, func = vfunc)\n",
    "    return np.sqrt(8*m)*intgrl"
   ]
  },
  {
   "cell_type": "code",
   "execution_count": 174,
   "id": "5676c5ae",
   "metadata": {},
   "outputs": [
    {
     "data": {
      "text/plain": [
       "3.648094084043217"
      ]
     },
     "execution_count": 174,
     "metadata": {},
     "output_type": "execute_result"
    }
   ],
   "source": [
    "T(1)"
   ]
  },
  {
   "cell_type": "code",
   "execution_count": 177,
   "id": "6cfbf737",
   "metadata": {},
   "outputs": [
    {
     "name": "stderr",
     "output_type": "stream",
     "text": [
      "<ipython-input-172-970b641dbe76>:2: RuntimeWarning: divide by zero encountered in double_scalars\n",
      "  return((1)/np.sqrt(V(A) - V(x)))\n",
      "<ipython-input-167-d89dcb97b87d>:12: RuntimeWarning: invalid value encountered in double_scalars\n",
      "  s += wp[k] * func(xp[k], A = b)\n"
     ]
    },
    {
     "data": {
      "image/png": "[encoded data removed]",
      "text/plain": [
       "<Figure size 720x720 with 1 Axes>"
      ]
     },
     "metadata": {
      "needs_background": "light"
     },
     "output_type": "display_data"
    }
   ],
   "source": [
    "plt.rcParams['figure.figsize'] = (10, 10)\n",
    "xs = np.arange(0,2,.01)\n",
    "ys = []\n",
    "for x in xs:\n",
    "    ys.append(T(x))\n",
    "plt.plot(xs,ys)\n",
    "\n",
    "plt.title('T(x)')\n",
    "plt.xlabel('Amplitude')\n",
    "plt.ylabel('Period');"
   ]
  },
  {
   "cell_type": "markdown",
   "id": "d76a7deb",
   "metadata": {},
   "source": [
    "b) You should nd that the oscillator gets faster as the amplitude increases, even though the\n",
    "particle has further to travel for larger amplitude. And you should nd that the period\n",
    "diverges as the amplitude goes to zero. How do you explain these results"
   ]
  },
  {
   "cell_type": "code",
   "execution_count": null,
   "id": "afd9c632",
   "metadata": {},
   "outputs": [],
   "source": []
  },
  {
   "cell_type": "markdown",
   "id": "58f939a7",
   "metadata": {},
   "source": [
    "# Problem 3\n",
    "\n",
    "Problem 3: The Stefan–Boltzmann constant\n",
    "\n",
    "The Planck theory of thermal radiation tells us that in the (angular) frequency interval ω to\n",
    "ω + dω, a black body of unit area radiates electromagnetically an amount of thermal energy\n",
    "per second equal to I ( ω ) dω, where\n",
    "I ( ω ) =  ̄h\n",
    "4π 2 c 2\n",
    "ω 3\n",
    "( e  ̄hω/k B T − 1 ) .\n",
    "Here  ̄h is Planck’s constant over 2π, c is the speed of light, and k B is Boltzmann’s constant.\n",
    "Integrating over frequency, it can be shown that the total energy per unit area radiated by a\n",
    "black body is\n",
    "W = k 4\n",
    "B T 4\n",
    "4π 2 c 2  ̄h 3\n",
    "∫ ∞\n",
    "0\n",
    "x 3\n",
    "e x − 1 dx.\n",
    "2\n",
    "a) Write a program to evaluate the integral in this expression. Explain what method you\n",
    "used, and how accurate you think your answer is.\n",
    "b) Even before Planck gave his theory of thermal radiation around the turn of the 20th cen-\n",
    "tury, it was known that the total energy W given off by a black body per unit area per\n",
    "second followed Stefan’s law: W = σT 4 , where σ is the Stefan–Boltzmann constant. Use\n",
    "your value for the integral above to compute a value for the Stefan–Boltzmann constant\n",
    "(in SI units) to three signicant gures. Check your result against the known value, which\n",
    "you can nd in books or on-line. You should get good agreement"
   ]
  },
  {
   "cell_type": "markdown",
   "id": "d7b514cb",
   "metadata": {},
   "source": [
    "a) Write a program to evaluate the integral in this expression. Explain what method you\n",
    "used, and how accurate you think your answer is.\n"
   ]
  },
  {
   "cell_type": "markdown",
   "id": "3f8068b9",
   "metadata": {},
   "source": [
    "From numerical integration in class:\n",
    "\n",
    "$I = \\int_{0}^{\\infty} f(x) \\,dx $\n",
    "\n",
    "$z = \\frac{x}{1+x}$\n",
    "\n",
    "$x = \\frac{z}{1-z}$\n",
    "\n",
    "$dx = \\frac{dz}{(1-z)^2}$\n",
    "\n",
    "$I = \\int_{0}^{1} f(\\frac{z}{1-z}) \\, \\frac{dz}{(1-z)^2}$"
   ]
  },
  {
   "cell_type": "markdown",
   "id": "aaba05a1",
   "metadata": {},
   "source": [
    "now we have a bound integral and we can use gaussian quadrature to evaluate it."
   ]
  },
  {
   "cell_type": "markdown",
   "id": "6bc7466d",
   "metadata": {},
   "source": [
    "$W \\approx \\int_{0}^{\\infty} \\frac{x^3}{e^x -1} \\,dx $"
   ]
  },
  {
   "cell_type": "markdown",
   "id": "51f60fa8",
   "metadata": {},
   "source": [
    "$f(x) = \\frac{x^3}{e^x -1}$\n"
   ]
  },
  {
   "cell_type": "markdown",
   "id": "453604bf",
   "metadata": {},
   "source": [
    "$W \\approx \\int_{0}^{1} \\frac{(\\frac{z}{1-z})^3}{e^(\\frac{z}{1-z}) -1} \\frac{1}{(1-z)^2} \\,dz $"
   ]
  },
  {
   "cell_type": "code",
   "execution_count": 136,
   "id": "c4b8818a",
   "metadata": {},
   "outputs": [],
   "source": [
    "def funcz(z):\n",
    "    \"\"\"\n",
    "    \n",
    "    \"\"\"\n",
    "    return(((((z)/(1-z))**3)/((np.e**((z)/(1-z)))-1))*((1)/((1-z)**2)))"
   ]
  },
  {
   "cell_type": "code",
   "execution_count": 148,
   "id": "a53e58f4",
   "metadata": {},
   "outputs": [
    {
     "name": "stdout",
     "output_type": "stream",
     "text": [
      "6.493242550961994\n"
     ]
    }
   ],
   "source": [
    "W = get_gauss(N = 20, a = 0, b = 1, func = funcz)\n",
    "print(W)"
   ]
  },
  {
   "cell_type": "markdown",
   "id": "22a9f131",
   "metadata": {},
   "source": [
    "Explain what method you\n",
    "used, and how accurate you think your answer is.\n"
   ]
  },
  {
   "cell_type": "code",
   "execution_count": null,
   "id": "e5307ecd",
   "metadata": {},
   "outputs": [],
   "source": []
  },
  {
   "cell_type": "markdown",
   "id": "d8163faf",
   "metadata": {},
   "source": [
    "b) Even before Planck gave his theory of thermal radiation around the turn of the 20th cen-\n",
    "tury, it was known that the total energy W given off by a black body per unit area per\n",
    "second followed Stefan’s law: W = σT 4 , where σ is the Stefan–Boltzmann constant. Use\n",
    "your value for the integral above to compute a value for the Stefan–Boltzmann constant\n",
    "(in SI units) to three signicant gures. Check your result against the known value, which\n",
    "you can nd in books or on-line. You should get good agreement"
   ]
  },
  {
   "cell_type": "markdown",
   "id": "25f6ecfc",
   "metadata": {},
   "source": [
    "$W = \\frac{k_B^4 T^4}{4 \\pi^2c^2 \\hbar^3 }\\int_{0}^{\\infty} \\frac{x^3}{e^x -1} \\,dx  = \\sigma T^4$\n",
    "\n",
    "$\\frac{k_B^4 }{4 \\pi^2c^2 \\hbar^3 }\\int_{0}^{\\infty} \\frac{x^3}{e^x -1} \\,dx  = \\sigma $"
   ]
  },
  {
   "cell_type": "code",
   "execution_count": 158,
   "id": "ee843208",
   "metadata": {},
   "outputs": [
    {
     "name": "stdout",
     "output_type": "stream",
     "text": [
      "Our calculated Stephan-Boltzman constant is:\n"
     ]
    },
    {
     "data": {
      "text/latex": [
       "$5.6697659 \\times 10^{-8} \\; \\mathrm{\\frac{W}{m^{2}\\,K^{4}}}$"
      ],
      "text/plain": [
       "<Quantity 5.66976594e-08 W / (K4 m2)>"
      ]
     },
     "execution_count": 158,
     "metadata": {},
     "output_type": "execute_result"
    }
   ],
   "source": [
    "sigma = W * (c.k_B **4)/(4 * (np.pi**2) * (c.c**2)* (c.hbar**3))\n",
    "print('Our calculated Stephan-Boltzman constant is:')\n",
    "sigma.to((u.W)/(u.m**2 * u.K**4))"
   ]
  },
  {
   "cell_type": "code",
   "execution_count": 157,
   "id": "b9aa9196",
   "metadata": {},
   "outputs": [
    {
     "name": "stdout",
     "output_type": "stream",
     "text": [
      "The true Stephan-Boltzman constant is:\n"
     ]
    },
    {
     "data": {
      "text/latex": [
       "$5.6703744 \\times 10^{-8} \\; \\mathrm{\\frac{W}{m^{2}\\,K^{4}}}$"
      ],
      "text/plain": [
       "<<class 'astropy.constants.codata2018.CODATA2018'> name='Stefan-Boltzmann constant' value=5.6703744191844314e-08 uncertainty=0.0 unit='W / (K4 m2)' reference='CODATA 2018'>"
      ]
     },
     "execution_count": 157,
     "metadata": {},
     "output_type": "execute_result"
    }
   ],
   "source": [
    "print('The true Stephan-Boltzman constant is:')\n",
    "c.sigma_sb"
   ]
  },
  {
   "cell_type": "markdown",
   "id": "0308fe9f",
   "metadata": {},
   "source": [
    "# Problem 4\n",
    "\n",
    "Problem 4: Quantum uncertainty in the harmonic oscillator\n",
    "\n",
    "\n",
    "In units where all the constants are 1, the wavefunction of the nth energy level of the one-\n",
    "dimensional quantum harmonic oscillator—i.e., a spinless point particle in a quadratic poten-\n",
    "tial well—is given by\n",
    "ψn ( x ) = 1\n",
    "√2 n n! √ π e − x 2 /2 Hn ( x ) ,\n",
    "for n = 0 . . . ∞, where Hn ( x ) is the nth Hermite polynomial. Hermite polynomials satisfy a\n",
    "relation somewhat similar to that for the Fibonacci numbers, although more complex:\n",
    "Hn + 1 ( x ) = 2xHn ( x ) − 2nHn − 1 ( x ) .\n",
    "The rst two Hermite polynomials are H0 ( x ) = 1 and H1 ( x ) = 2x.\n",
    "a) Write a user-dened function H(n,x) that calculates Hn ( x ) for given x and any integer\n",
    "n ≥ 0. Use your function to make a plot that shows the harmonic oscillator wavefunc-\n",
    "tions for n = 0, 1, 2, and 3, all on the same graph, in the range x = − 4 to x = 4. Hint:\n",
    "There is a function factorial in the math package that calculates the factorial of an inte-\n",
    "ger.\n",
    "b) Make a separate plot of the wavefunction for n = 30 from x = − 10 to x = 10. Hint: If\n",
    "your program takes too long to run in this case, then you’re doing the calculation wrong—\n",
    "the program should take only a second or so to run.\n",
    "c) The quantum uncertainty of a particle in the nth level of a quantum harmonic oscillator\n",
    "can be quantied by its root-mean-square position √ ⟨ x 2 ⟩ , where\n",
    "⟨ x 2 ⟩ =\n",
    "∫ ∞\n",
    "− ∞\n",
    "x 2 | ψn ( x )| 2 dx.\n",
    "Write a program that evaluates this integral using Gaussian quadrature on 100 points\n",
    "and then calculates the uncertainty (i.e., the root-mean-square position of the particle) for\n",
    "a given value of n. Use your program to calculate the uncertainty for n = 5. You should\n",
    "get an answer in the vicinity of √ ⟨ x 2 ⟩ = 2.3.\n",
    "\n"
   ]
  },
  {
   "cell_type": "markdown",
   "id": "feaf8b0d",
   "metadata": {},
   "source": [
    "a) Write a user-dened function H(n,x) that calculates Hn ( x ) for given x and any integer\n",
    "n ≥ 0. Use your function to make a plot that shows the harmonic oscillator wavefunc-\n",
    "tions for n = 0, 1, 2, and 3, all on the same graph, in the range x = − 4 to x = 4. Hint:\n",
    "There is a function factorial in the math package that calculates the factorial of an inte-\n",
    "ger.\n",
    "\n"
   ]
  },
  {
   "cell_type": "code",
   "execution_count": null,
   "id": "6688b158",
   "metadata": {},
   "outputs": [],
   "source": []
  },
  {
   "cell_type": "markdown",
   "id": "48776da3",
   "metadata": {},
   "source": [
    "b) Make a separate plot of the wavefunction for n = 30 from x = − 10 to x = 10. Hint: If\n",
    "your program takes too long to run in this case, then you’re doing the calculation wrong—\n",
    "the program should take only a second or so to run.\n",
    "\n"
   ]
  },
  {
   "cell_type": "code",
   "execution_count": null,
   "id": "f2a07af1",
   "metadata": {},
   "outputs": [],
   "source": []
  },
  {
   "cell_type": "markdown",
   "id": "f28d81e1",
   "metadata": {},
   "source": [
    "c) The quantum uncertainty of a particle in the nth level of a quantum harmonic oscillator\n",
    "can be quantied by its root-mean-square position √ ⟨ x 2 ⟩ , where\n",
    "⟨ x 2 ⟩ =\n",
    "∫ ∞\n",
    "− ∞\n",
    "x 2 | ψn ( x )| 2 dx.\n",
    "Write a program that evaluates this integral using Gaussian quadrature on 100 points\n",
    "and then calculates the uncertainty (i.e., the root-mean-square position of the particle) for\n",
    "a given value of n. Use your program to calculate the uncertainty for n = 5. You should\n",
    "get an answer in the vicinity of √ ⟨ x 2 ⟩ = 2.3."
   ]
  },
  {
   "cell_type": "code",
   "execution_count": null,
   "id": "8217c82c",
   "metadata": {},
   "outputs": [],
   "source": [
    "def H(n,x)"
   ]
  },
  {
   "cell_type": "markdown",
   "id": "d6f1df94",
   "metadata": {},
   "source": [
    "# Problem 5\n",
    "\n",
    "Problem 5: Electric eld of a charge distribution\n",
    "Suppose we have a distribution of charges and we want to calculate the resulting electric eld.\n",
    "One way to do this is to rst calculate the electric potential φ and then take its gradient. For a\n",
    "point charge q at the origin, the electric potential at a distance r from the origin is φ = q/4πε 0 r\n",
    "and the electric eld is E = −∇ φ.\n",
    "3\n",
    "a) You have two charges, of ± 1 C, 10 cm apart. Calculate the resulting electric potential on\n",
    "a 1 m × 1 m square plane surrounding the charges and passing through them. Calculate\n",
    "the potential at 1 cm spaced points in a grid and make a visualization on the screen of the\n",
    "potential using a density plot.\n",
    "b) Now calculate the partial derivatives of the potential with respect to x and y and hence\n",
    "nd the electric eld in the xy plane. Make a visualization of the eld also. This is a little\n",
    "trickier than visualizing the potential, because the electric eld has both magnitude and\n",
    "direction. One way to do it might be to make two density plots, one for the magnitude,\n",
    "and one for the direction, the latter using the “hsv” color scheme, which is a rainbow\n",
    "scheme that passes through all the colors but starts and ends with the same shade of red,\n",
    "which makes it suitable for representing things like directions or angles that go around\n",
    "the full circle and end up where they started. A more sophisticated visualization might\n",
    "use matplotlib’s quiver function, drawing a grid of arrows with direction and length\n",
    "chosen to represent the eld"
   ]
  },
  {
   "cell_type": "markdown",
   "id": "ff7898c2",
   "metadata": {},
   "source": [
    "a) You have two charges, of ± 1 C, 10 cm apart. Calculate the resulting electric potential on\n",
    "a 1 m × 1 m square plane surrounding the charges and passing through them. Calculate\n",
    "the potential at 1 cm spaced points in a grid and make a visualization on the screen of the\n",
    "potential using a density plot.\n"
   ]
  },
  {
   "cell_type": "code",
   "execution_count": null,
   "id": "922c79bf",
   "metadata": {},
   "outputs": [],
   "source": []
  },
  {
   "cell_type": "markdown",
   "id": "6f6fe013",
   "metadata": {},
   "source": [
    "b) Now calculate the partial derivatives of the potential with respect to x and y and hence\n",
    "nd the electric eld in the xy plane. Make a visualization of the eld also. This is a little\n",
    "trickier than visualizing the potential, because the electric eld has both magnitude and\n",
    "direction. One way to do it might be to make two density plots, one for the magnitude,\n",
    "and one for the direction, the latter using the “hsv” color scheme, which is a rainbow\n",
    "scheme that passes through all the colors but starts and ends with the same shade of red,\n",
    "which makes it suitable for representing things like directions or angles that go around\n",
    "the full circle and end up where they started. A more sophisticated visualization might\n",
    "use matplotlib’s quiver function, drawing a grid of arrows with direction and length\n",
    "chosen to represent the eld"
   ]
  },
  {
   "cell_type": "code",
   "execution_count": null,
   "id": "2446f6c9",
   "metadata": {},
   "outputs": [],
   "source": []
  },
  {
   "cell_type": "code",
   "execution_count": null,
   "id": "3e126df0",
   "metadata": {},
   "outputs": [],
   "source": []
  }
 ],
 "metadata": {
  "kernelspec": {
   "display_name": "Python 3",
   "language": "python",
   "name": "python3"
  },
  "language_info": {
   "codemirror_mode": {
    "name": "ipython",
    "version": 3
   },
   "file_extension": ".py",
   "mimetype": "text/x-python",
   "name": "python",
   "nbconvert_exporter": "python",
   "pygments_lexer": "ipython3",
   "version": "3.9.6"
  }
 },
 "nbformat": 4,
 "nbformat_minor": 5
}
