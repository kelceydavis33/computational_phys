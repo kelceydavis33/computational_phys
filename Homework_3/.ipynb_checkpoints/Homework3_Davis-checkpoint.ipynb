{
 "cells": [
  {
   "cell_type": "markdown",
   "id": "caa1d37a",
   "metadata": {},
   "source": [
    "# Homework 3-Kelcey Davis"
   ]
  },
  {
   "cell_type": "code",
   "execution_count": 1,
   "id": "4298f017",
   "metadata": {},
   "outputs": [],
   "source": [
    "import astropy.units as u\n",
    "import astropy.constants as c\n",
    "from astropy.coordinates import SkyCoord\n",
    "from astropy.time import Time\n",
    "import numpy as np\n",
    "import matplotlib.pyplot as plt\n",
    "import pandas as pd\n",
    "import glob\n",
    "%matplotlib inline"
   ]
  },
  {
   "cell_type": "code",
   "execution_count": 2,
   "id": "d2f9672d",
   "metadata": {},
   "outputs": [],
   "source": [
    "plt.rcParams['figure.figsize'] = (10, 10)\n",
    "plt.rc('axes', labelsize=14)\n",
    "plt.rc('axes', labelweight='bold')\n",
    "plt.rc('axes', titlesize=16)\n",
    "plt.rc('axes', titleweight='bold')\n",
    "plt.rc('font', family='sans-serif')"
   ]
  },
  {
   "cell_type": "markdown",
   "id": "1e63bf2c",
   "metadata": {},
   "source": [
    "## Problem 1\n",
    "\n",
    "Heat capacity of a solid\n",
    "Debye’s theory of solids gives the heat capacity of a solid at temperature T to be\n",
    "CV = 9Vρk B\n",
    "( T\n",
    "θ D\n",
    ") 3 ∫ θ D /T\n",
    "0\n",
    "x 4 e x\n",
    "( e x − 1 ) 2 dx,\n",
    "where V is the volume of the solid, ρ is the number density of atoms, k B is Boltzmann’s con-\n",
    "stant, and θ D is the so-called Debye temperature, a property of solids that depends on their\n",
    "density and speed of sound.\n",
    "\n",
    "\n",
    "a) Write a Python function cv(T) that calculates CV for a given value of the temperature,\n",
    "for a sample consisting of 1000 cubic centimeters of solid aluminum, which has a number\n",
    "density of ρ = 6.022 × 1028 m − 3 and a Debye temperature of θ D = 428 K. Use Gaussian\n",
    "quadrature to evaluate the integral, with N = 50 sample points. Hint: you can use the\n",
    "function(s) dened in gaussxw.py (from our class exercises).\n",
    "\n",
    "\n",
    "b) Use your function to make a graph of the heat capacity as a function of temperature from\n",
    "T = 5 K to T = 500 K"
   ]
  },
  {
   "cell_type": "markdown",
   "id": "bfa06b47",
   "metadata": {},
   "source": [
    "a) Write a Python function cv(T) that calculates CV for a given value of the temperature,\n",
    "for a sample consisting of 1000 cubic centimeters of solid aluminum, which has a number\n",
    "density of ρ = 6.022 × 1028 m − 3 and a Debye temperature of θ D = 428 K. Use Gaussian\n",
    "quadrature to evaluate the integral, with N = 50 sample points. Hint: you can use the\n",
    "function(s) dened in gaussxw.py (from our class exercises).\n",
    "\n"
   ]
  },
  {
   "cell_type": "code",
   "execution_count": null,
   "id": "c3cc8f3a",
   "metadata": {},
   "outputs": [],
   "source": [
    "def cv(T):\n",
    "    \"\"\"\n",
    "    \n",
    "    \"\"\"\n",
    "    "
   ]
  },
  {
   "cell_type": "markdown",
   "id": "1a13620f",
   "metadata": {},
   "source": [
    "\n",
    "b) Use your function to make a graph of the heat capacity as a function of temperature from\n",
    "T = 5 K to T = 500 K"
   ]
  },
  {
   "cell_type": "code",
   "execution_count": null,
   "id": "dc5cd82e",
   "metadata": {},
   "outputs": [],
   "source": []
  }
 ],
 "metadata": {
  "kernelspec": {
   "display_name": "Python 3",
   "language": "python",
   "name": "python3"
  },
  "language_info": {
   "codemirror_mode": {
    "name": "ipython",
    "version": 3
   },
   "file_extension": ".py",
   "mimetype": "text/x-python",
   "name": "python",
   "nbconvert_exporter": "python",
   "pygments_lexer": "ipython3",
   "version": "3.9.6"
  }
 },
 "nbformat": 4,
 "nbformat_minor": 5
}
