{
 "cells": [
  {
   "cell_type": "markdown",
   "id": "c49f68a2",
   "metadata": {},
   "source": [
    "# Python Overview"
   ]
  },
  {
   "cell_type": "markdown",
   "id": "c6400665",
   "metadata": {},
   "source": [
    "## Book Notes: Chapter 2\n",
    "\n",
    "\n",
    "* book uses IDLE\n",
    "* book also works in .py files\n",
    "\n",
    "* **variable**: quantity of interest\n",
    "\n",
    "* an assignment statemenet defines a variable\n",
    "\n",
    "* variable names cannot start with a number or contain special characters excluding \"_\" , are case sensitive\n",
    "\n",
    " Variable types:\n",
    "\n",
    "*  integer: whole number, non decimcal\n",
    "\n",
    "* boolean: True/False\n",
    "\n",
    "- float: floating point variable, real, floating point, or integer values\n",
    "\n",
    "- complex: using unit imaginary number \"j\" seperated by +/-:\n",
    "\n",
    "* string: indicated by \" \"\n",
    "\n",
    "5 + 8j\n",
    "8 - 0.02j\n",
    "\n",
    "\n",
    "- scientific notadion denoted by e\n",
    "\n",
    "\n",
    "4e30\n",
    "\n",
    "translates to $4 x 10^{30}$\n",
    "\n",
    "\n",
    " spefifying 1 as:\n",
    "\n",
    "- an integer: 1\n",
    "\n",
    "- a float: 1.0\n",
    "\n",
    "- complex: 1+0j\n",
    "\n",
    "\n",
    "\n",
    "**print statements***\n",
    "* input function\n",
    "\n",
    "* can print multiple outputs by seperating them with commas\n",
    "\n",
    "* can specify seperation when printing multiple entries with \"sep\" keyword\n",
    "\n",
    "* sep = \"desired seperation\"\n",
    "\n",
    "**user inputs**\n",
    "\n",
    "* input(\"Enter the value of x:\") will print a request for the user to specify the variable x.\n",
    "\n",
    "**integer division**\n",
    "\n",
    "* x//y takes x divided by y and rounds down result to nearest integer\n",
    "\n",
    "**modulo**\n",
    "\n",
    "* x%y gives remainder after x is divided by y\n",
    "\n",
    "**increase**\n",
    "\n",
    "x +=1 adds 1 to x\n",
    "\n",
    "x -= 1 subtracts 1 from x\n",
    "\n",
    "* **while statement**: checks if a condition is met, executes function if it is\n",
    "\n",
    "* **break**: skip on and proceed with the rest of the program\n",
    "\n",
    "* lists are filled with elements, each of which can have a different type\n",
    "\n",
    "**arrays** \n",
    "\n",
    "initialize an array of zeroes:\n",
    "\n",
    "np.zeroes([x dimension, y dimension], variable type)\n",
    "\n",
    "empty array with numpy.empty\n",
    "\n",
    "copy an array with numpy.copy()\n",
    "\n"
   ]
  },
  {
   "cell_type": "code",
   "execution_count": 1,
   "id": "4298f017",
   "metadata": {},
   "outputs": [],
   "source": [
    "import astropy.units as u\n",
    "import astropy.constants as c\n",
    "from astropy.coordinates import SkyCoord\n",
    "from astropy.time import Time\n",
    "import numpy as np\n",
    "import matplotlib.pyplot as plt\n",
    "import pandas as pd\n",
    "import glob\n",
    "%matplotlib inline"
   ]
  },
  {
   "cell_type": "code",
   "execution_count": 2,
   "id": "d2f9672d",
   "metadata": {},
   "outputs": [],
   "source": [
    "plt.rcParams['figure.figsize'] = (10, 10)\n",
    "plt.rc('axes', labelsize=14)\n",
    "plt.rc('axes', labelweight='bold')\n",
    "plt.rc('axes', titlesize=16)\n",
    "plt.rc('axes', titleweight='bold')\n",
    "plt.rc('font', family='sans-serif')"
   ]
  },
  {
   "cell_type": "markdown",
   "id": "93254e15",
   "metadata": {},
   "source": [
    "# Lecture Notes"
   ]
  },
  {
   "cell_type": "markdown",
   "id": "6e2438e5",
   "metadata": {},
   "source": [
    "Command line:\n",
    "\n",
    "* open terminal,type python3\n",
    "\n",
    "* use terminal scripts for max efficiency\n",
    "\n",
    "* jupyter notebook for homeworks, terminal for supercomputing\n",
    "\n",
    "* // guarentees integer output from division\n",
    "\n",
    "* import s.t. functions are callable from abreviated libraries\n",
    "\n",
    "* True: ==\n",
    "\n",
    "* False: !=\n",
    "\n",
    "* Triple quotes \"' for long comments\n",
    "\n",
    "* convert a list to an array: np.array(lst)\n",
    "\n",
    "* [2:5] indexes places 2,3,4\n",
    "\n",
    "* dictrionaries: d = {1:'thing1, 2:'thing2'}\n",
    "\n",
    "* enumerate combimes two lists and iterates over both: for i,name in enumerate (names) iterates over index, name of variables in names\n"
   ]
  },
  {
   "cell_type": "markdown",
   "id": "ad619113",
   "metadata": {},
   "source": [
    "# Class Excercise"
   ]
  },
  {
   "cell_type": "markdown",
   "id": "2d8368a9",
   "metadata": {},
   "source": [
    "## Excercise 1"
   ]
  },
  {
   "cell_type": "code",
   "execution_count": 3,
   "id": "80d1c1ec",
   "metadata": {},
   "outputs": [],
   "source": [
    "from numpy import array\n",
    "a = array([1,2,3,4],int)\n",
    "b = array([2,4,6,8],int)"
   ]
  },
  {
   "cell_type": "markdown",
   "id": "3ad2d83b",
   "metadata": {},
   "source": [
    "Guessing without running:\n",
    "\n",
    "1. print(b/a+1)\n",
    "\n",
    "2. print(b/(a+1))\n",
    "\n",
    "3. print(1/a)\n",
    "\n",
    "\n",
    "Guesses:\n",
    "\n",
    "1: 3, 3, 3, 3\n",
    "\n",
    "2: 1, 4/3, 6/4, 8/5, (the decimal versions of these fractions will print)\n",
    "\n",
    "3: 1, .5, .33333, .25"
   ]
  },
  {
   "cell_type": "markdown",
   "id": "70cf6295",
   "metadata": {},
   "source": [
    "Testing the answers:"
   ]
  },
  {
   "cell_type": "code",
   "execution_count": 6,
   "id": "8f480073",
   "metadata": {},
   "outputs": [
    {
     "name": "stdout",
     "output_type": "stream",
     "text": [
      "[3. 3. 3. 3.]\n"
     ]
    }
   ],
   "source": [
    "print(b/a+1)"
   ]
  },
  {
   "cell_type": "code",
   "execution_count": 7,
   "id": "7e2b6a2b",
   "metadata": {},
   "outputs": [
    {
     "name": "stdout",
     "output_type": "stream",
     "text": [
      "[1.         1.33333333 1.5        1.6       ]\n"
     ]
    }
   ],
   "source": [
    "print(b/(a+1))"
   ]
  },
  {
   "cell_type": "code",
   "execution_count": 8,
   "id": "03514ad0",
   "metadata": {},
   "outputs": [
    {
     "name": "stdout",
     "output_type": "stream",
     "text": [
      "[1.         0.5        0.33333333 0.25      ]\n"
     ]
    }
   ],
   "source": [
    "print(1/a)"
   ]
  },
  {
   "cell_type": "markdown",
   "id": "eab20557",
   "metadata": {},
   "source": [
    "## Excercise 2\n",
    "\n",
    "Suppose we have an integer n and we want to know its prime factors. The prime factors can\n",
    "be calculated easily by dividing repeatedly by all integers from 2 up to n checking to see if the\n",
    "remainder is zero. Recall that the remainder after division can be calculated in Python using\n",
    "the modulo operation “%”, and that the integer division operation “//” ensures that the result\n",
    "returned is another integer (otherwise the standard division operator returns a float).\n",
    "1. Write a function that takes the number n as argument and returns a list of its prime fac-\n",
    "tors. Note that this list should contain repeated factors if they occur in the input number.\n",
    "2. Test your function and note that if we specify a prime number in the argument, the func-\n",
    "tion returns the same number (the only prime factor of a prime number is itself). Use this\n",
    "fact to make a program that prints out the prime numbers up to 10,000 by checking to see\n",
    "if they have only a single prime factor."
   ]
  },
  {
   "cell_type": "code",
   "execution_count": 45,
   "id": "371d4841",
   "metadata": {},
   "outputs": [],
   "source": [
    "def factors(n):\n",
    "    \"\"\"\n",
    "    Takes the number n as argument and returns a list of its prime factors\n",
    "    \n",
    "    Inputs\n",
    "        \n",
    "        n: integer, number for which prime factors will be produced\n",
    "        \n",
    "    Outputs\n",
    "    \n",
    "        factor list: list of integer prime factors of n\n",
    "    \n",
    "    \"\"\"  \n",
    "    factor_list = []\n",
    "    i = 2\n",
    "    while i<=n:\n",
    "        while n%i == 0:\n",
    "            factor_list.append(i)\n",
    "            n//=i\n",
    "        i+=1\n",
    "    return factor_list"
   ]
  },
  {
   "cell_type": "markdown",
   "id": "c7e0011d",
   "metadata": {},
   "source": [
    "Testing the factors function for a few numbers"
   ]
  },
  {
   "cell_type": "code",
   "execution_count": 51,
   "id": "31334eaa",
   "metadata": {},
   "outputs": [
    {
     "data": {
      "text/plain": [
       "[7]"
      ]
     },
     "execution_count": 51,
     "metadata": {},
     "output_type": "execute_result"
    }
   ],
   "source": [
    "factors(7)"
   ]
  },
  {
   "cell_type": "code",
   "execution_count": 52,
   "id": "65f1794d",
   "metadata": {},
   "outputs": [
    {
     "data": {
      "text/plain": [
       "[5, 5]"
      ]
     },
     "execution_count": 52,
     "metadata": {},
     "output_type": "execute_result"
    }
   ],
   "source": [
    "factors(25)"
   ]
  },
  {
   "cell_type": "code",
   "execution_count": 50,
   "id": "c2bd153b",
   "metadata": {},
   "outputs": [
    {
     "data": {
      "text/plain": [
       "[2, 2, 2, 2]"
      ]
     },
     "execution_count": 50,
     "metadata": {},
     "output_type": "execute_result"
    }
   ],
   "source": [
    "factors(16)"
   ]
  },
  {
   "cell_type": "code",
   "execution_count": 58,
   "id": "5b606911",
   "metadata": {},
   "outputs": [],
   "source": [
    "def print_primes(num):\n",
    "    \"\"\"\n",
    "    Prints prime number between zero and the specified value\n",
    "    \n",
    "    Inputs:\n",
    "    \n",
    "        num: integer, maximum valus for prime numbers to be printed\n",
    "        \n",
    "    Outputs:\n",
    "    \n",
    "        primes: a list of the prime numbers between 0 and num\n",
    "    \"\"\"\n",
    "    lst = np.arange(0,num)\n",
    "    primes = []\n",
    "    for i in lst:\n",
    "        if len(factors(i)) == 1:\n",
    "            primes.append(i)"
   ]
  },
  {
   "cell_type": "code",
   "execution_count": 59,
   "id": "24424f54",
   "metadata": {},
   "outputs": [],
   "source": [
    "print_primes(100)"
   ]
  },
  {
   "cell_type": "code",
   "execution_count": null,
   "id": "3a2c2ee1",
   "metadata": {},
   "outputs": [],
   "source": []
  }
 ],
 "metadata": {
  "kernelspec": {
   "display_name": "Python 3",
   "language": "python",
   "name": "python3"
  },
  "language_info": {
   "codemirror_mode": {
    "name": "ipython",
    "version": 3
   },
   "file_extension": ".py",
   "mimetype": "text/x-python",
   "name": "python",
   "nbconvert_exporter": "python",
   "pygments_lexer": "ipython3",
   "version": "3.9.6"
  }
 },
 "nbformat": 4,
 "nbformat_minor": 5
}
