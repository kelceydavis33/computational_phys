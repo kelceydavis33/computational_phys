{
 "cells": [
  {
   "cell_type": "markdown",
   "id": "96af0f27",
   "metadata": {},
   "source": [
    "# Homeowrk 1"
   ]
  },
  {
   "cell_type": "code",
   "execution_count": 1,
   "id": "63404554",
   "metadata": {},
   "outputs": [],
   "source": [
    "import astropy.units as u\n",
    "import astropy.constants as c\n",
    "from astropy.coordinates import SkyCoord\n",
    "from astropy.time import Time\n",
    "import numpy as np\n",
    "import matplotlib.pyplot as plt\n",
    "import pandas as pd\n",
    "import glob\n",
    "import itertools\n",
    "%matplotlib inline"
   ]
  },
  {
   "cell_type": "code",
   "execution_count": 2,
   "id": "04b567b6",
   "metadata": {},
   "outputs": [],
   "source": [
    "plt.rcParams['figure.figsize'] = (10, 10)\n",
    "plt.rc('axes', labelsize=14)\n",
    "plt.rc('axes', labelweight='bold')\n",
    "plt.rc('axes', titlesize=16)\n",
    "plt.rc('axes', titleweight='bold')\n",
    "plt.rc('font', family='sans-serif')"
   ]
  },
  {
   "cell_type": "markdown",
   "id": "0826d094",
   "metadata": {},
   "source": [
    "## Problem 1: \n",
    "\n",
    "The Madelung constant\n",
    "\n",
    "\n",
    "In condensed matter physics the Madelung constant gives the total electric potential felt by\n",
    "an atom in a solid. It depends on the charges on the other atoms nearby and their locations.\n",
    "Consider for instance solid sodium chloride—table salt. The sodium chloride crystal has atoms\n",
    "arranged on a cubic lattice, but with alternating sodium and chlorine atoms, \n",
    "\n",
    "the sodium ones\n",
    "having a single positive charge +e and the chlorine ones a single negative charge −e, where e is\n",
    "the charge on the electron. \n",
    "\n",
    "If we label each position on the lattice by three integer coordinates\n",
    "(i, j, k), then **the sodium atoms fall at positions where i + j + k is even, and the chlorine atoms\n",
    "at positions where i + j + k is odd.**\n",
    "\n",
    "\n",
    "Consider a sodium atom at the origin, i = j = k = 0, and let us calculate the Madelung\n",
    "constant. \n",
    "\n",
    "If the spacing of atoms on the lattice is a, then the distance from the origin to the atom\n",
    "at position (i, j, k) is \n",
    "\n",
    "$\\sqrt{(ia)^2 + (ja)^2 + (ka)^2}= a \\sqrt{i^2 + j^2 + k^2}$\n",
    "\n",
    "\n",
    "and the potential at the origin created by such an atom is\n",
    "\n",
    "$V(i, j, k) = ± \\frac{e}{4 \\pi \\epsilon_0 a \\sqrt{i^2 + j^2 + k^2}} $\n",
    "\n",
    "with $\\epsilon_0$ being the permittivity of the vacuum and the sign of the expression depending on\n",
    "whether i + j + k is even or odd. \n",
    "\n",
    "The **total potential** felt by the sodium atom is then the sum of\n",
    "this quantity over all other atoms. \n",
    "\n",
    "Let us assume a cubic box around the sodium at the origin,\n",
    "with L atoms in all directions. Then\n",
    "\n",
    "$V_{total} =  \\sum_{i,j,k = -L (not i=j=k=0)}^{L}  V(i,j,k) = \\frac{e}{4 \\pi \\epsilon_0 a}M $\n",
    "\n",
    "\n",
    "where M is the Madelung constant, at least approximately—technically the Madelung constant\n",
    "is the value of M when L → ∞, but one can get a good approximation just by using a large\n",
    "value of L.\n",
    "\n",
    "\n",
    "Write a program to calculate and print the Madelung constant for sodium chloride. Use as\n",
    "large a value of L as you can, while still having your program run in reasonable time—say in a\n",
    "minute or less."
   ]
  },
  {
   "cell_type": "markdown",
   "id": "f91711b3",
   "metadata": {},
   "source": [
    "$M = \\Sigma  \\frac{e}{4\\pi \\epsilon_0 a \\sqrt{i^2 + j^2 + k^2}} x \\frac{4 \\pi \\epsilon_0 a }{e}$\n",
    "\n",
    "$M = \\Sigma \\frac{1}{\\sqrt{i^2 + j^2 + k^2}}$"
   ]
  },
  {
   "cell_type": "code",
   "execution_count": 45,
   "id": "284d5ac5",
   "metadata": {},
   "outputs": [],
   "source": [
    "def madelung_constant(L):\n",
    "    \"\"\"\n",
    "    Calculates the Madelung constant for a 3-d sqre space of dimmensions 2Lx2Lx2L.\n",
    "    \n",
    "    Parameters\n",
    "    ---\n",
    "    L: Length of one of the square axes defining the space where the Madelung constant will be calculated\n",
    "    \n",
    "    Returns\n",
    "    ---\n",
    "    M: The Madelung constant\n",
    "    \"\"\"\n",
    "    #Define I, J, and K axes to run from -L to L\n",
    "    I=J=K=np.arange(-1*L, L+1)\n",
    "    #Initialize M at 0\n",
    "    M = 0\n",
    "    #Define an empty list to store all possible coordinates within the 3-D space\n",
    "    coordinates= []\n",
    "    #Iterate through all possible coordinates in the space\n",
    "    for i in itertools.product(I,J,K):\n",
    "        #Append each of these possible coordinates to the list\n",
    "        coordinates.append(i)\n",
    "    #Remove the center coordinate\n",
    "    coordinates.remove((0,0,0))\n",
    "    #Loop over the possible coordinates\n",
    "    for coord in coordinates:\n",
    "        #Check if the sum of the position vectors is even\n",
    "        if (float(coord[0]+coord[1]+coord[2]))%2 ==0:\n",
    "            #If it is even, add a negative value\n",
    "            M+=(1/(np.sqrt((coord[0]**2) + (coord[1]**2) + (coord[2]**2))))*(1)\n",
    "        #Covering cases where the sum is not even\n",
    "        else:\n",
    "            #Add a positive value\n",
    "            M+=(1/(np.sqrt((coord[0]**2) + (coord[1]**2) + (coord[2]**2))))*(-1)\n",
    "    #Return the constant\n",
    "    return M"
   ]
  },
  {
   "cell_type": "code",
   "execution_count": 46,
   "id": "fe5eb3f8",
   "metadata": {},
   "outputs": [
    {
     "name": "stdout",
     "output_type": "stream",
     "text": [
      "The Madelung Constant is -1.7418.\n"
     ]
    }
   ],
   "source": [
    "print(f\"The Madelung Constant is {round(madelung_constant(100), 4)}.\")"
   ]
  },
  {
   "cell_type": "markdown",
   "id": "92328cca",
   "metadata": {},
   "source": [
    "## Problem 2\n",
    "\n",
    " The semi-empirical mass formula\n",
    " \n",
    " \n",
    "In nuclear physics, the semi-empirical mass formula is a formula for calculating the approx-\n",
    "imate nuclear **binding energy B** of an atomic nucleus with **atomic number Z** and **mass num-\n",
    "ber A**:\n",
    "\n",
    "$B = a_1 A - a_2 A^{2/3} -a_3 \\frac{Z^2}{A^{1/3}} - a_4\\frac{(A -2Z)^2}{A}+\\frac{a_5}{A^{1/2}}$\n",
    "\n",
    "where, in units of millions of electron volts, the constants are \n",
    "a1 = 15.8, a2 = 18.3, a3 = 0.714,\n",
    "a4 = 23.2, and\n",
    "\n",
    "a5=\n",
    "0 if A is odd,\n",
    "12.0 if A and Z are both even,\n",
    "−12.0 if A is even and Z is odd.\n",
    "\n",
    "\n",
    "a) Write a program that takes as its input the values of A and Z, and prints out the binding\n",
    "energy for the corresponding atom. Use your program to find the binding energy of an\n",
    "atom with A = 58 and Z = 28. (Hint: The correct answer is around 490 MeV.)\n",
    "\n",
    "\n",
    "b) Modify your program to print out not the total binding energy B, but the binding energy\n",
    "per nucleon, which is B/A.\n",
    "\n",
    "\n",
    "c) Now modify your program so that it takes as input just a single value of the atomic\n",
    "number Z and then goes through all values of A from A = Z to A = 3Z, to find the one\n",
    "that has the largest binding energy per nucleon. This is the most stable nucleus with the\n",
    "given atomic number. Have your program print out the value of A for this most stable\n",
    "nucleus and the value of the binding energy per nucleon.\n",
    "d) Modify your program again so that, instead of taking Z as input, it runs through all val-\n",
    "ues of Z from 1 to 100 and prints out the most stable value of A for each one. At what\n",
    "value of Z does the maximum binding energy per nucleon occur? (The true answer, in\n",
    "real life, is Z = 28, which is nickel"
   ]
  },
  {
   "cell_type": "markdown",
   "id": "deb1fdde",
   "metadata": {},
   "source": [
    "a) Write a program that takes as its input the values of A and Z, and prints out the binding\n",
    "energy for the corresponding atom. Use your program to find the binding energy of an\n",
    "atom with A = 58 and Z = 28. (Hint: The correct answer is around 490 MeV.)"
   ]
  },
  {
   "cell_type": "code",
   "execution_count": 11,
   "id": "1094a6c2",
   "metadata": {},
   "outputs": [],
   "source": [
    "def binding_energy(A,Z):\n",
    "    \"\"\"\n",
    "    Computes the binding energy of a specified atom\n",
    "    \n",
    "    Parameters\n",
    "    ---\n",
    "    A: mass number of atom\n",
    "    Z: atomic number of atom\n",
    "    \n",
    "    Returns\n",
    "    ---\n",
    "    B: binding energy in eV of the specified atom\n",
    "    \n",
    "    \"\"\"\n",
    "    #Assigns values to a1-a4, gives them units of millions of electron volts\n",
    "    a1 = 15.8e6*u.eV\n",
    "    a2 = 18.3e6*u.eV\n",
    "    a3 = 0.714e6*u.eV\n",
    "    a4 = 23.2e6*u.eV\n",
    "    #Assigns a5 if A is odd, assigns units of millions of electron volts\n",
    "    if A%2 !=0:\n",
    "        a5 = 0*u.eV\n",
    "    #Assigns a5 if A and Z are even, assigns units of millions of electron volts\n",
    "    elif A%2 == 0 and Z%2 == 0:\n",
    "        a5 = 12.0e6*u.eV\n",
    "    #Assigns a5 if A is even and Z is odd, assigns units of millions of electron volts\n",
    "    elif A%2 == 0 and Z%2 != 0:\n",
    "        a5 = -12.0e6*u.eV\n",
    "    #Computes the binding energy B\n",
    "    B = (a1*A) - (a2*(A**(2/3))) - (a3*((Z**2)/(A**(1/3)))) - (a4*(((A-2*Z)**2)/(A)))+((a5)/(A**(1/2)))\n",
    "    #Return the binding energy\n",
    "    return B"
   ]
  },
  {
   "cell_type": "code",
   "execution_count": 12,
   "id": "76fd4d67",
   "metadata": {},
   "outputs": [
    {
     "name": "stdout",
     "output_type": "stream",
     "text": [
      "The binding energy is 497.56 MeV.\n"
     ]
    }
   ],
   "source": [
    "#Running the function to get the binding energy and printing it\n",
    "binding = binding_energy(A=58,Z=28)\n",
    "#Converting the binding energy to MeV\n",
    "print(f'The binding energy is {round(binding.value/1e6, 2)} MeV.')"
   ]
  },
  {
   "cell_type": "markdown",
   "id": "62fe8b4f",
   "metadata": {},
   "source": [
    "This matches the given answer of approximately 490 MeV."
   ]
  },
  {
   "cell_type": "markdown",
   "id": "7caf3008",
   "metadata": {},
   "source": [
    "b) Modify your program to print out not the total binding energy B, but the binding energy\n",
    "per nucleon, which is B/A."
   ]
  },
  {
   "cell_type": "code",
   "execution_count": 13,
   "id": "822b20dc",
   "metadata": {},
   "outputs": [],
   "source": [
    "def binding_energy_per_nuc(A,Z):\n",
    "    \"\"\"\n",
    "    Returns the binding energy per nucleon of a specified atom.\n",
    "    \n",
    "    Parameters\n",
    "    ---\n",
    "    A: mass number of atom\n",
    "    Z: atomic number of atom\n",
    "    \n",
    "    Returns:\n",
    "    ---\n",
    "    BE: The binding energy per nucleon for the specified atom\n",
    "    \"\"\"\n",
    "    #Calls a previously defined function to compute the binding energy and divides it by the number of nucleons\n",
    "    BE = binding_energy(A,Z)/A\n",
    "    #Returns binding energy per nucleon\n",
    "    return BE"
   ]
  },
  {
   "cell_type": "code",
   "execution_count": 14,
   "id": "80f41770",
   "metadata": {},
   "outputs": [
    {
     "name": "stdout",
     "output_type": "stream",
     "text": [
      "The binding energy per nucleon is 8.58 MeV.\n"
     ]
    }
   ],
   "source": [
    "#Calling the binding_energy_per_nuc function\n",
    "be = binding_energy_per_nuc(A = 58,Z=28)\n",
    "#Converting the binding energy per nucleon to MeV\n",
    "print(f'The binding energy per nucleon is {round(be.value/1e6, 2)} MeV.')"
   ]
  },
  {
   "cell_type": "markdown",
   "id": "02f7587b",
   "metadata": {},
   "source": [
    "c) Now modify your program so that it takes as input just a single value of the atomic\n",
    "number Z and then goes through all values of A from A = Z to A = 3Z, to find the one\n",
    "that has the largest binding energy per nucleon. This is the most stable nucleus with the\n",
    "given atomic number. Have your program print out the value of A for this most stable\n",
    "nucleus and the value of the binding energy per nucleon.\n"
   ]
  },
  {
   "cell_type": "code",
   "execution_count": 15,
   "id": "2034a336",
   "metadata": {},
   "outputs": [],
   "source": [
    "def maximize_binding_energy_for_A(Z):\n",
    "    \"\"\"\n",
    "    Computes a range of mass numbers possible for a specified Z between Z and 3Z then determines the \n",
    "    mass number that maximizes the binding energy.\n",
    "    \n",
    "    Parameters\n",
    "    ---\n",
    "    Z: atomic number of atom\n",
    "    \n",
    "    Returns\n",
    "    ---\n",
    "    maxA: The value for the mass number A associated with the maximum binding energy\n",
    "    maxBE: The binding energy associated with the A value of maxA.\n",
    "    \"\"\"\n",
    "    #Creates a range of integer values between Z and 3Z\n",
    "    A_range = np.arange(Z, 3*Z+1)\n",
    "    #Defines an empty list to store the binding energies\n",
    "    binding_energies = []\n",
    "    #Loops over the possible A values\n",
    "    for A in A_range:\n",
    "        #Computes the binding energy per nucleon and appends it to the list\n",
    "        binding_energies.append(binding_energy_per_nuc(A,Z).value)\n",
    "    #Finds the index value in the binding energies list associated with the highest value and indexes the \n",
    "    #A_range array to identifythe A value with the highest binding energy\n",
    "    maxA = A_range[np.argmax(binding_energies)]\n",
    "    #Finds the maximum value for the binding energies\n",
    "    maxBE = np.max(binding_energies)\n",
    "    #Returns the two maxima\n",
    "    return maxA, maxBE"
   ]
  },
  {
   "cell_type": "code",
   "execution_count": 22,
   "id": "b01f884b",
   "metadata": {},
   "outputs": [
    {
     "name": "stdout",
     "output_type": "stream",
     "text": [
      "The mass number with the maximum binding energy is 62. The binding energyfor this mass number is 8.702 MeV.\n"
     ]
    }
   ],
   "source": [
    "maxA, maxBE = maximize_binding_energy_for_A(28)\n",
    "print(f'The mass number with the maximum binding energy is {maxA}. The binding energyfor this mass number is {round(maxBE/1e6, 3)} MeV.')"
   ]
  },
  {
   "cell_type": "markdown",
   "id": "fcce6e27",
   "metadata": {},
   "source": [
    "d) Modify your program again so that, instead of taking Z as input, it runs through all val- ues of Z from 1 to 100 and prints out the most stable value of A for each one. At what value of Z does the maximum binding energy per nucleon occur? (The true answer, in real life, is Z = 28, which is nickel"
   ]
  },
  {
   "cell_type": "code",
   "execution_count": 32,
   "id": "1002d56c",
   "metadata": {},
   "outputs": [],
   "source": [
    "def maximize_binding_energy_for_Z():\n",
    "    \"\"\"\n",
    "    Runs through all Z values between 1 and 100 and computes then prints the A value that maximizes the \n",
    "    binding energy. Computes the Z value for the atom with the highest binding energy.\n",
    "    \n",
    "    Parameters\n",
    "    ---\n",
    "    none\n",
    "    \n",
    "    Returns\n",
    "    ---\n",
    "    maxZ: The Z value associated with the maximum binding energy\n",
    "    \n",
    "    \"\"\"\n",
    "    #Create a range of Z values between 1 and 100\n",
    "    Z_range = np.arange(1, 101)\n",
    "    #Define empty lists to store the maximum A values and their associated binding energies\n",
    "    maxA = []\n",
    "    b_es = []\n",
    "    #Loop through the possible Z values\n",
    "    for Z in Z_range:\n",
    "        #Compute the maximum binding energy and associated A value for the given Z\n",
    "        mxA, mxBE = maximize_binding_energy_for_A(Z)\n",
    "        #Store the values in their associated lists\n",
    "        maxA.append(mxA)\n",
    "        b_es.append(mxBE)\n",
    "        #Print out the maximum A value for the associated Z\n",
    "        print(f'For Z = {Z}, the most stable A is {mxA}')\n",
    "    #Compute the Z value associated with the highest binding energy\n",
    "    maxZ = Z_range[np.argmax(b_es)]\n",
    "    #Return the Z value\n",
    "    return maxZ"
   ]
  },
  {
   "cell_type": "code",
   "execution_count": 33,
   "id": "7c886a16",
   "metadata": {
    "scrolled": false
   },
   "outputs": [
    {
     "name": "stdout",
     "output_type": "stream",
     "text": [
      "For Z = 1, the most stable A is 3\n",
      "For Z = 2, the most stable A is 4\n",
      "For Z = 3, the most stable A is 7\n",
      "For Z = 4, the most stable A is 8\n",
      "For Z = 5, the most stable A is 11\n",
      "For Z = 6, the most stable A is 14\n",
      "For Z = 7, the most stable A is 15\n",
      "For Z = 8, the most stable A is 18\n",
      "For Z = 9, the most stable A is 19\n",
      "For Z = 10, the most stable A is 22\n",
      "For Z = 11, the most stable A is 25\n",
      "For Z = 12, the most stable A is 26\n",
      "For Z = 13, the most stable A is 29\n",
      "For Z = 14, the most stable A is 30\n",
      "For Z = 15, the most stable A is 33\n",
      "For Z = 16, the most stable A is 36\n",
      "For Z = 17, the most stable A is 37\n",
      "For Z = 18, the most stable A is 40\n",
      "For Z = 19, the most stable A is 43\n",
      "For Z = 20, the most stable A is 44\n",
      "For Z = 21, the most stable A is 47\n",
      "For Z = 22, the most stable A is 48\n",
      "For Z = 23, the most stable A is 51\n",
      "For Z = 24, the most stable A is 54\n",
      "For Z = 25, the most stable A is 55\n",
      "For Z = 26, the most stable A is 58\n",
      "For Z = 27, the most stable A is 61\n",
      "For Z = 28, the most stable A is 62\n",
      "For Z = 29, the most stable A is 65\n",
      "For Z = 30, the most stable A is 68\n",
      "For Z = 31, the most stable A is 69\n",
      "For Z = 32, the most stable A is 72\n",
      "For Z = 33, the most stable A is 75\n",
      "For Z = 34, the most stable A is 76\n",
      "For Z = 35, the most stable A is 79\n",
      "For Z = 36, the most stable A is 82\n",
      "For Z = 37, the most stable A is 85\n",
      "For Z = 38, the most stable A is 86\n",
      "For Z = 39, the most stable A is 89\n",
      "For Z = 40, the most stable A is 92\n",
      "For Z = 41, the most stable A is 93\n",
      "For Z = 42, the most stable A is 96\n",
      "For Z = 43, the most stable A is 99\n",
      "For Z = 44, the most stable A is 102\n",
      "For Z = 45, the most stable A is 103\n",
      "For Z = 46, the most stable A is 106\n",
      "For Z = 47, the most stable A is 109\n",
      "For Z = 48, the most stable A is 110\n",
      "For Z = 49, the most stable A is 113\n",
      "For Z = 50, the most stable A is 116\n",
      "For Z = 51, the most stable A is 119\n",
      "For Z = 52, the most stable A is 120\n",
      "For Z = 53, the most stable A is 123\n",
      "For Z = 54, the most stable A is 126\n",
      "For Z = 55, the most stable A is 129\n",
      "For Z = 56, the most stable A is 130\n",
      "For Z = 57, the most stable A is 133\n",
      "For Z = 58, the most stable A is 136\n",
      "For Z = 59, the most stable A is 139\n",
      "For Z = 60, the most stable A is 140\n",
      "For Z = 61, the most stable A is 143\n",
      "For Z = 62, the most stable A is 146\n",
      "For Z = 63, the most stable A is 149\n",
      "For Z = 64, the most stable A is 150\n",
      "For Z = 65, the most stable A is 153\n",
      "For Z = 66, the most stable A is 156\n",
      "For Z = 67, the most stable A is 159\n",
      "For Z = 68, the most stable A is 162\n",
      "For Z = 69, the most stable A is 163\n",
      "For Z = 70, the most stable A is 166\n",
      "For Z = 71, the most stable A is 169\n",
      "For Z = 72, the most stable A is 172\n",
      "For Z = 73, the most stable A is 175\n",
      "For Z = 74, the most stable A is 176\n",
      "For Z = 75, the most stable A is 179\n",
      "For Z = 76, the most stable A is 182\n",
      "For Z = 77, the most stable A is 185\n",
      "For Z = 78, the most stable A is 188\n",
      "For Z = 79, the most stable A is 191\n",
      "For Z = 80, the most stable A is 192\n",
      "For Z = 81, the most stable A is 195\n",
      "For Z = 82, the most stable A is 198\n",
      "For Z = 83, the most stable A is 201\n",
      "For Z = 84, the most stable A is 204\n",
      "For Z = 85, the most stable A is 205\n",
      "For Z = 86, the most stable A is 208\n",
      "For Z = 87, the most stable A is 211\n",
      "For Z = 88, the most stable A is 214\n",
      "For Z = 89, the most stable A is 217\n",
      "For Z = 90, the most stable A is 220\n",
      "For Z = 91, the most stable A is 223\n",
      "For Z = 92, the most stable A is 224\n",
      "For Z = 93, the most stable A is 227\n",
      "For Z = 94, the most stable A is 230\n",
      "For Z = 95, the most stable A is 233\n",
      "For Z = 96, the most stable A is 236\n",
      "For Z = 97, the most stable A is 239\n",
      "For Z = 98, the most stable A is 242\n",
      "For Z = 99, the most stable A is 243\n",
      "For Z = 100, the most stable A is 246\n",
      "The most stable binding energy for the first 100 elements occurs at Z = 28.\n"
     ]
    }
   ],
   "source": [
    "mx = maximize_binding_energy_for_Z()\n",
    "print(f'The most stable binding energy for the first 100 elements occurs at Z = {mx}.')"
   ]
  },
  {
   "cell_type": "markdown",
   "id": "ea380952",
   "metadata": {},
   "source": [
    "## Problem 3\n",
    "\n",
    "Binomial coefficients\n",
    "\n",
    "\n",
    "The binomial coefficient (n\n",
    "k) is an integer equal to\n",
    "\n",
    "if k greater than or equal to 1:\n",
    "\n",
    "$(nk) = \\frac{n!}{k!(n-k)!} = \\frac{n x (n-1) x (n-2) x ...x(n-k+1)}{1 x 2 x...k}$\n",
    "\n",
    "else =1 if k = 0\n",
    "\n",
    "a) Using this form for the binomial coefficient, write a user-defined function binomial(n,k)\n",
    "that calculates the binomial coefficient for given n and k. Make sure your function returns\n",
    "the answer in the form of an integer (not a float) and gives the correct value of 1 for the\n",
    "case where k = 0.\n",
    "b) Using your function write a program to print out the first 20 lines of “Pascal’s triangle.”\n",
    "The nth line of Pascal’s triangle contains n + 1 numbers, which are the coefficients (n\n",
    "0),\n",
    "(n\n",
    "1), and so on up to (n\n",
    "n). Thus the first few lines are\n",
    "1 1\n",
    "1 2 1\n",
    "1 3 3 1\n",
    "1 4 6 4 1\n",
    "c) The probability that an unbiased coin, tossed n times, will come up heads k times is\n",
    "(n\n",
    "k)/2n. Write a program to calculate (a) the total probability that a coin tossed 100 times\n",
    "2\n",
    "comes up heads exactly 60 times, and (b) the probability that it comes up heads 60 or\n",
    "more tim"
   ]
  },
  {
   "cell_type": "markdown",
   "id": "b28a57a4",
   "metadata": {},
   "source": [
    "a) Using this form for the binomial coefficient, write a user-defined function binomial(n,k)\n",
    "that calculates the binomial coefficient for given n and k. Make sure your function returns\n",
    "the answer in the form of an integer (not a float) and gives the correct value of 1 for the\n",
    "case where k = 0."
   ]
  },
  {
   "cell_type": "code",
   "execution_count": 41,
   "id": "9875fea8",
   "metadata": {},
   "outputs": [],
   "source": [
    "def binomial(n, k):\n",
    "    \"\"\"\n",
    "    Calculates the binomial coefficient for a specified n and k\n",
    "    \n",
    "    Parameters\n",
    "    ---\n",
    "    n: first input for the binomial function, integer\n",
    "    k: second input for the binomial function, positive integer or 0\n",
    "    \n",
    "    Returns\n",
    "    ---\n",
    "    result: an integer result for the binomial coefficient\n",
    "    \n",
    "    \"\"\"\n",
    "    #Check if k is 0\n",
    "    if k == 0:\n",
    "        #Return a value of 1 for the binomial coefficient\n",
    "        return 1\n",
    "    #Check if the k value is greater than or equal to 1\n",
    "    elif k>=1:\n",
    "        #Compute the binomial coefficient and store it in the result\n",
    "        result =  np.math.factorial(n)/((np.math.factorial(k))*(np.math.factorial(n-k)))\n",
    "    #Check if the function has been given a non-integer, display an error message if so\n",
    "    elif (type(k) != int) or (type(n)!= int):\n",
    "        print('Please specify an integer value.')\n",
    "    #Catch all other cases where the k value is negative, print an error.\n",
    "    else:\n",
    "        print('k value cannot be negative')\n",
    "    #Return the binomial coefficient as an integer value\n",
    "    return int(result)"
   ]
  },
  {
   "cell_type": "code",
   "execution_count": 43,
   "id": "12c0eb2f",
   "metadata": {},
   "outputs": [
    {
     "data": {
      "text/plain": [
       "1"
      ]
     },
     "execution_count": 43,
     "metadata": {},
     "output_type": "execute_result"
    }
   ],
   "source": [
    "binomial(n = 2, k = 2)"
   ]
  },
  {
   "cell_type": "code",
   "execution_count": 44,
   "id": "81c351a9",
   "metadata": {},
   "outputs": [
    {
     "data": {
      "text/plain": [
       "4"
      ]
     },
     "execution_count": 44,
     "metadata": {},
     "output_type": "execute_result"
    }
   ],
   "source": [
    "binomial(n = 4, k = 3)"
   ]
  },
  {
   "cell_type": "markdown",
   "id": "5241d986",
   "metadata": {},
   "source": [
    "b) Using your function write a program to print out the first 20 lines of “Pascal’s triangle.”\n",
    "The nth line of Pascal’s triangle contains n + 1 numbers, which are the coefficients (n\n",
    "0),\n",
    "(n\n",
    "1), and so on up to (n\n",
    "n). Thus the first few lines are\n",
    "1 1\n",
    "1 2 1\n",
    "1 3 3 1\n",
    "1 4 6 4 1"
   ]
  },
  {
   "cell_type": "code",
   "execution_count": 262,
   "id": "7432bb22",
   "metadata": {},
   "outputs": [],
   "source": [
    "def pascals_tri(lines):\n",
    "    \"\"\"\n",
    "    Creates Pascal's triangle for a given number of lines.\n",
    "    \n",
    "    Parameters\n",
    "    ---\n",
    "    lines: The number of lines for the triangle to be computed\n",
    "    \n",
    "    Returns\n",
    "    ---\n",
    "    Prints each line of the triangle\n",
    "    \n",
    "    \"\"\"\n",
    "    #Initialize n at 1\n",
    "    n=1\n",
    "    #Loop through each line in a range specefied by the lines variable\n",
    "    for line in np.arange(1,lines+1):\n",
    "        #Initializes an empty list to store the numbers in each tear of the iteration\n",
    "        nums = []\n",
    "        #Creates values for k for this specified n\n",
    "        ks = np.arange(0, n+1)\n",
    "        #Loop through the k values\n",
    "        for k in ks:\n",
    "            #Computes the binomial coefficient for each of the k values, stores the result\n",
    "            nums.append(binomial(n, k))\n",
    "        #prints the line of Pascal's triangle\n",
    "        print(nums)\n",
    "        #Increases n before the next iteration\n",
    "        n+=1"
   ]
  },
  {
   "cell_type": "code",
   "execution_count": 263,
   "id": "0488675a",
   "metadata": {},
   "outputs": [
    {
     "name": "stdout",
     "output_type": "stream",
     "text": [
      "[1, 1]\n",
      "[1, 2, 1]\n",
      "[1, 3, 3, 1]\n",
      "[1, 4, 6, 4, 1]\n",
      "[1, 5, 10, 10, 5, 1]\n",
      "[1, 6, 15, 20, 15, 6, 1]\n",
      "[1, 7, 21, 35, 35, 21, 7, 1]\n",
      "[1, 8, 28, 56, 70, 56, 28, 8, 1]\n",
      "[1, 9, 36, 84, 126, 126, 84, 36, 9, 1]\n",
      "[1, 10, 45, 120, 210, 252, 210, 120, 45, 10, 1]\n",
      "[1, 11, 55, 165, 330, 462, 462, 330, 165, 55, 11, 1]\n",
      "[1, 12, 66, 220, 495, 792, 924, 792, 495, 220, 66, 12, 1]\n",
      "[1, 13, 78, 286, 715, 1287, 1716, 1716, 1287, 715, 286, 78, 13, 1]\n",
      "[1, 14, 91, 364, 1001, 2002, 3003, 3432, 3003, 2002, 1001, 364, 91, 14, 1]\n",
      "[1, 15, 105, 455, 1365, 3003, 5005, 6435, 6435, 5005, 3003, 1365, 455, 105, 15, 1]\n",
      "[1, 16, 120, 560, 1820, 4368, 8008, 11440, 12870, 11440, 8008, 4368, 1820, 560, 120, 16, 1]\n",
      "[1, 17, 136, 680, 2380, 6188, 12376, 19448, 24310, 24310, 19448, 12376, 6188, 2380, 680, 136, 17, 1]\n",
      "[1, 18, 153, 816, 3060, 8568, 18564, 31824, 43758, 48620, 43758, 31824, 18564, 8568, 3060, 816, 153, 18, 1]\n",
      "[1, 19, 171, 969, 3876, 11628, 27132, 50388, 75582, 92378, 92378, 75582, 50388, 27132, 11628, 3876, 969, 171, 19, 1]\n",
      "[1, 20, 190, 1140, 4845, 15504, 38760, 77520, 125970, 167960, 184756, 167960, 125970, 77520, 38760, 15504, 4845, 1140, 190, 20, 1]\n"
     ]
    }
   ],
   "source": [
    "pascals_tri(20)"
   ]
  },
  {
   "cell_type": "markdown",
   "id": "2c106f4a",
   "metadata": {},
   "source": [
    "c) The probability that an unbiased coin, tossed n times, will come up heads k times is\n",
    "(n\n",
    "k)/2n. Write a program to calculate (a) the total probability that a coin tossed 100 times\n",
    "2\n",
    "comes up heads exactly 60 times,"
   ]
  },
  {
   "cell_type": "code",
   "execution_count": 47,
   "id": "e85f5415",
   "metadata": {},
   "outputs": [],
   "source": [
    "def probability_heads(tosses, heads):\n",
    "    \"\"\"\n",
    "    Computes the probability of rolling heads a specified ammount of times for a specified number of tosses\n",
    "    \n",
    "    Parameters\n",
    "    ---\n",
    "    tosses: the number of tosses \n",
    "    \n",
    "    heads: the number of heads occuring in the number of tosses\n",
    "    \n",
    "    Returns\n",
    "    ---\n",
    "    prints the probabilities\n",
    "    \n",
    "    \"\"\"\n",
    "    print(f\"The probability of rolling {heads} heads for {tosses} tosses is {round(((binomial(tosses, heads)/(2**(tosses))))*100, 3)}%.\")"
   ]
  },
  {
   "cell_type": "code",
   "execution_count": 51,
   "id": "183967a3",
   "metadata": {},
   "outputs": [
    {
     "name": "stdout",
     "output_type": "stream",
     "text": [
      "The probability of rolling 60 heads for 100 tosses is 1.084%.\n"
     ]
    }
   ],
   "source": [
    "prob = probability_heads(tosses=100, heads=60)"
   ]
  },
  {
   "cell_type": "markdown",
   "id": "c768126b",
   "metadata": {},
   "source": [
    "(b) the probability that it comes up heads 60 or\n",
    "more times"
   ]
  },
  {
   "cell_type": "code",
   "execution_count": 280,
   "id": "bd0ed8a5",
   "metadata": {},
   "outputs": [],
   "source": [
    "def probaility_more_heads(tosses, min_heads):\n",
    "    \"\"\"\n",
    "    Computes the probability for at least the specified number of tosses occuring for a given number of tosses\n",
    "    \n",
    "    Parameters\n",
    "    ---\n",
    "    tosses: the number of tosses \n",
    "    \n",
    "    min_heads: the minimum number of heads rolled\n",
    "    \n",
    "    Returns\n",
    "    ---\n",
    "    prints the percent probability\n",
    "    \n",
    "    \"\"\"\n",
    "    #Initialize a variable to track the probability\n",
    "    h_prob = 0\n",
    "    #Loop through the minimum number of tosses to the total tosses\n",
    "    for h in np.arange(min_heads, tosses +1):\n",
    "        #Increase the probability sum for each iteration\n",
    "        h_prob += (binomial(tosses, h)/(2**(tosses)))\n",
    "    #Prints the percent probability\n",
    "    print(f'The probability for flipping {min_heads} or more heads for {tosses} coin tosses is {round(h_prob*100, 3)}%.')"
   ]
  },
  {
   "cell_type": "code",
   "execution_count": 281,
   "id": "22122e19",
   "metadata": {},
   "outputs": [
    {
     "name": "stdout",
     "output_type": "stream",
     "text": [
      "The probability for flipping 60 or more heads for 100 coin tosses is 2.844%.\n"
     ]
    }
   ],
   "source": [
    "probaility_more_heads(100, 60)"
   ]
  },
  {
   "cell_type": "markdown",
   "id": "67bde245",
   "metadata": {},
   "source": [
    "## Problem 4\n",
    "\n",
    "Catalan numbers\n",
    "\n",
    "The Catalan numbers Cn are a sequence of integers 1, 1, 2, 5, 14, 42, 132. . . that play an important\n",
    "role in quantum mechanics and the theory of disordered systems. (They were central to Eugene\n",
    "Wigner’s proof of the so-called semicircle law.) They are given by\n",
    "\n",
    "$C_0 = 1$\n",
    "\n",
    "$C_{n+1} = \\frac{4n +2}{n+2}C_n$\n",
    "\n",
    "\n",
    "Write a program that prints in increasing order all Catalan numbers less than or equal to one\n",
    "billion"
   ]
  },
  {
   "cell_type": "code",
   "execution_count": 294,
   "id": "d97447dd",
   "metadata": {},
   "outputs": [],
   "source": [
    "def catalan_numbers():\n",
    "    \"\"\"\n",
    "    Prints the Catalan numbes in increasing order up to one billion\n",
    "    \n",
    "    Parameters\n",
    "    ---\n",
    "    none\n",
    "    \n",
    "    Returns\n",
    "    ---\n",
    "    prints Catalan numbers\n",
    "    \n",
    "    \"\"\"\n",
    "    #Printing c0\n",
    "    print(1)\n",
    "    #Initializing c as the current catalan number and n as an iteration tracker\n",
    "    c = 1\n",
    "    n = 0\n",
    "    #Printing c1\n",
    "    print(c)\n",
    "    #Continues the loop while the catalan number is less than one billion\n",
    "    while c<=1e9:\n",
    "        #Increases the iteration tracker\n",
    "        n+=1\n",
    "        #Increases the catalan number by multiplying the previous catalan number by the iterative fraction\n",
    "        c*=((4*n+2)/(n+2))\n",
    "        #Prints the new catalan number\n",
    "        print(c)"
   ]
  },
  {
   "cell_type": "code",
   "execution_count": 295,
   "id": "28b8f9e4",
   "metadata": {},
   "outputs": [
    {
     "name": "stdout",
     "output_type": "stream",
     "text": [
      "1\n",
      "1\n",
      "2.0\n",
      "5.0\n",
      "14.0\n",
      "42.0\n",
      "132.0\n",
      "429.0\n",
      "1430.0\n",
      "4862.0\n",
      "16796.0\n",
      "58786.0\n",
      "208012.0\n",
      "742900.0\n",
      "2674440.0\n",
      "9694845.0\n",
      "35357670.0\n",
      "129644790.0\n",
      "477638700.0\n",
      "1767263190.0\n"
     ]
    }
   ],
   "source": [
    "catalan_numbers()"
   ]
  },
  {
   "cell_type": "markdown",
   "id": "ce28bace",
   "metadata": {},
   "source": [
    "## Problem 5\n",
    "\n",
    "Recursion\n",
    "A useful feature of user-defined functions is recursion, the ability of a function to call itself. For\n",
    "example, consider the following definition of the factorial n! of a positive integer n:\n",
    "n! =\n",
    "{ 1 if n = 1,\n",
    "n × (n − 1)! if n > 1.\n",
    "This constitutes a complete definition of the factorial which allows us to calculate the value of\n",
    "n! for any positive integer. We can employ this definition directly to create a Python function\n",
    "for factorials, like this:\n",
    "def factorial(n):\n",
    "if n==1:\n",
    "return 1\n",
    "else:\n",
    "return n*factorial(n-1)\n",
    "Note how, if n is not equal to 1, the function calls itself to calculate the factorial of n − 1.\n",
    "This is recursion. If we now say “print(factorial(5))” the computer will correctly print the\n",
    "answer 120.\n",
    "a) We encountered the Catalan numbers Cn in Problem 4. With just a little rearrangement,\n",
    "the definition given there can be rewritten in the form\n",
    "Cn =\n",
    "\n",
    "\n",
    "\n",
    "1 if n = 0,\n",
    "4n − 2\n",
    "n + 1 Cn−1 if n > 0.\n",
    "Write a Python function, using recursion, that calculates Cn. Use your function to calcu-\n",
    "late and print C100.\n",
    "3\n",
    "b) Euclid showed that the greatest common divisor g(m, n) of two nonnegative integers m\n",
    "and n satisfies\n",
    "g(m, n) =\n",
    "{ m if n = 0,\n",
    "g(n, m mod n) if n > 0.\n",
    "Write a Python function g(m,n) that employs recursion to calculate the greatest common\n",
    "divisor of m and n using this formula. Use your function to calculate and print the great-\n",
    "est common divisor of 108 and 192.\n",
    "Comparing the calculation of the Catalan numbers in Problem 4 and here, we see that it’s possi-\n",
    "ble to do the calculation two ways, either directly or using recursion. In most cases, if a quantity\n",
    "can be calculated without recursion, then it will be faster to do so, and we normally recommend\n",
    "taking this route if possible. There are some calculations, however, that are essentially impos-\n",
    "sible (or at least much more difficult) without recursion. We will see some examples later in\n",
    "the bo"
   ]
  },
  {
   "cell_type": "markdown",
   "id": "91c3bc20",
   "metadata": {},
   "source": [
    "Write a Python function, using recursion, that calculates Cn. Use your function to calcu-\n",
    "late and print C100.\n",
    "3"
   ]
  },
  {
   "cell_type": "code",
   "execution_count": 53,
   "id": "0e296880",
   "metadata": {},
   "outputs": [],
   "source": [
    "def catlan_recursion(n):\n",
    "    \"\"\"\n",
    "    Returns the nth Catalan number\n",
    "    \n",
    "    Parameters\n",
    "    ---\n",
    "    n: integer, indicates catalan number of interest\n",
    "    \n",
    "    Returns\n",
    "    ---\n",
    "    returns the specified catalan number\n",
    "    \n",
    "    \"\"\"\n",
    "    #Check if n  is 0, if so return 1\n",
    "    if n ==0:\n",
    "        return 1\n",
    "    #If n is not 1, call the function inside itsself recursively and multiply by the fraction for catlan numbers\n",
    "    else:\n",
    "        return ((4*n-2)/(n+1))*catlan_recursion(n-1)"
   ]
  },
  {
   "cell_type": "code",
   "execution_count": 56,
   "id": "880333fd",
   "metadata": {},
   "outputs": [
    {
     "name": "stdout",
     "output_type": "stream",
     "text": [
      "The 100th Catalan number is 8.965e+56.\n"
     ]
    }
   ],
   "source": [
    "print(f\"The 100th Catalan number is {catlan_recursion(100):.3e}.\")"
   ]
  },
  {
   "cell_type": "markdown",
   "id": "4abc97aa",
   "metadata": {},
   "source": [
    "b) Euclid showed that the greatest common divisor g(m, n) of two nonnegative integers m\n",
    "and n satisfies\n",
    "g(m, n) =\n",
    "{ m if n = 0,\n",
    "g(n, m mod n) if n > 0.\n",
    "Write a Python function g(m,n) that employs recursion to calculate the greatest common\n",
    "divisor of m and n using this formula. Use your function to calculate and print the great-\n",
    "est common divisor of 108 and 192."
   ]
  },
  {
   "cell_type": "code",
   "execution_count": 57,
   "id": "12e5c5c9",
   "metadata": {},
   "outputs": [],
   "source": [
    "def common_divisor(m,n):\n",
    "    \"\"\"\n",
    "    Returns the greatest common divisor of m and n\n",
    "    \n",
    "    Parameters:\n",
    "    ---\n",
    "    m: integer\n",
    "    \n",
    "    n: integer\n",
    "    \n",
    "    Returns:\n",
    "    ---\n",
    "    returns the greatest common divisor\n",
    "    \n",
    "    \"\"\"\n",
    "    #Check if n is 0, if so return m\n",
    "    if n == 0:\n",
    "        return m\n",
    "    #Check that both numbers are integers, print an error if they are not\n",
    "    elif type(m) != int or type(n)!= int:\n",
    "        print('Please enter an integer.')\n",
    "    #Check that n is greater than zero, run the function recursively with n input for m and m%n input for n\n",
    "    elif n>0:\n",
    "        return common_divisor(n, m%n)\n",
    "    #For all other cases n is negative, print an error \n",
    "    else:\n",
    "        print('n must be greater or euqal to 0.')"
   ]
  },
  {
   "cell_type": "code",
   "execution_count": 61,
   "id": "4c0ad76d",
   "metadata": {},
   "outputs": [
    {
     "name": "stdout",
     "output_type": "stream",
     "text": [
      "The greatest common divisor for 108 and 192 is 12.\n"
     ]
    }
   ],
   "source": [
    "print(f'The greatest common divisor for 108 and 192 is {common_divisor(108, 192)}.')"
   ]
  }
 ],
 "metadata": {
  "kernelspec": {
   "display_name": "Python 3",
   "language": "python",
   "name": "python3"
  },
  "language_info": {
   "codemirror_mode": {
    "name": "ipython",
    "version": 3
   },
   "file_extension": ".py",
   "mimetype": "text/x-python",
   "name": "python",
   "nbconvert_exporter": "python",
   "pygments_lexer": "ipython3",
   "version": "3.9.6"
  }
 },
 "nbformat": 4,
 "nbformat_minor": 5
}
